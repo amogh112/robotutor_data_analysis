{
 "cells": [
  {
   "cell_type": "markdown",
   "metadata": {},
   "source": [
    "# RoboTutor Data Analysis"
   ]
  },
  {
   "cell_type": "markdown",
   "metadata": {},
   "source": [
    "## Importing libraries"
   ]
  },
  {
   "cell_type": "code",
   "execution_count": 46,
   "metadata": {},
   "outputs": [],
   "source": [
    "import pandas as pd\n",
    "import sklearn\n",
    "import numpy as np"
   ]
  },
  {
   "cell_type": "code",
   "execution_count": 47,
   "metadata": {},
   "outputs": [],
   "source": [
    "from datetime import datetime\n",
    "import dateutil"
   ]
  },
  {
   "cell_type": "code",
   "execution_count": 48,
   "metadata": {},
   "outputs": [],
   "source": [
    "import matplotlib.pyplot as plt\n",
    "from matplotlib.patches import Ellipse"
   ]
  },
  {
   "cell_type": "code",
   "execution_count": 49,
   "metadata": {},
   "outputs": [],
   "source": [
    "import math"
   ]
  },
  {
   "cell_type": "markdown",
   "metadata": {},
   "source": [
    "## Defining data folders"
   ]
  },
  {
   "cell_type": "code",
   "execution_count": 50,
   "metadata": {},
   "outputs": [],
   "source": [
    "folder_data = '/home/amogh/Desktop/CMU/LearnLab_Summer_School/Data/'"
   ]
  },
  {
   "cell_type": "code",
   "execution_count": 51,
   "metadata": {},
   "outputs": [],
   "source": [
    "folder_beta_sites_data = '/home/amogh/Desktop/CMU/LearnLab_Summer_School/Data/beta_sites_upto_27_july/'"
   ]
  },
  {
   "cell_type": "code",
   "execution_count": 52,
   "metadata": {},
   "outputs": [],
   "source": [
    "path_data_beta_sites = folder_beta_sites_data + 'ds2577_tx_All_Data_4463_2018_0728_005503.txt'"
   ]
  },
  {
   "cell_type": "code",
   "execution_count": 53,
   "metadata": {},
   "outputs": [],
   "source": [
    "path_data_field = folder_data + 'fieldnew.txt'"
   ]
  },
  {
   "cell_type": "markdown",
   "metadata": {},
   "source": [
    "## Loading raw data"
   ]
  },
  {
   "cell_type": "markdown",
   "metadata": {},
   "source": [
    "### Beta Sites"
   ]
  },
  {
   "cell_type": "code",
   "execution_count": 54,
   "metadata": {
    "scrolled": false
   },
   "outputs": [
    {
     "name": "stderr",
     "output_type": "stream",
     "text": [
      "/home/amogh/anaconda3/lib/python3.6/site-packages/IPython/core/interactiveshell.py:2785: DtypeWarning: Columns (7,75,76,79,82,83,84,85,86) have mixed types. Specify dtype option on import or set low_memory=False.\n",
      "  interactivity=interactivity, compiler=compiler, result=result)\n"
     ]
    }
   ],
   "source": [
    "df_data_beta_sites = pd.read_csv(path_data_beta_sites, sep = '\\t')"
   ]
  },
  {
   "cell_type": "markdown",
   "metadata": {},
   "source": [
    "**Visualising data**"
   ]
  },
  {
   "cell_type": "code",
   "execution_count": 55,
   "metadata": {},
   "outputs": [
    {
     "data": {
      "text/plain": [
       "229"
      ]
     },
     "execution_count": 55,
     "metadata": {},
     "output_type": "execute_result"
    }
   ],
   "source": [
    "len(set(df_data_beta_sites['Anon Student Id'].values.tolist()))"
   ]
  },
  {
   "cell_type": "code",
   "execution_count": 56,
   "metadata": {
    "scrolled": true
   },
   "outputs": [
    {
     "data": {
      "text/html": [
       "<div>\n",
       "<style scoped>\n",
       "    .dataframe tbody tr th:only-of-type {\n",
       "        vertical-align: middle;\n",
       "    }\n",
       "\n",
       "    .dataframe tbody tr th {\n",
       "        vertical-align: top;\n",
       "    }\n",
       "\n",
       "    .dataframe thead th {\n",
       "        text-align: right;\n",
       "    }\n",
       "</style>\n",
       "<table border=\"1\" class=\"dataframe\">\n",
       "  <thead>\n",
       "    <tr style=\"text-align: right;\">\n",
       "      <th></th>\n",
       "      <th>Row</th>\n",
       "      <th>Sample Name</th>\n",
       "      <th>Transaction Id</th>\n",
       "      <th>Anon Student Id</th>\n",
       "      <th>Session Id</th>\n",
       "      <th>Time</th>\n",
       "      <th>Time Zone</th>\n",
       "      <th>Duration (sec)</th>\n",
       "      <th>Student Response Type</th>\n",
       "      <th>Student Response Subtype</th>\n",
       "      <th>...</th>\n",
       "      <th>CF (Student School)</th>\n",
       "      <th>CF (Student Used Scaffold)</th>\n",
       "      <th>CF (Tablet Name)</th>\n",
       "      <th>CF (Tablet Number)</th>\n",
       "      <th>CF (Total Activity Problems)</th>\n",
       "      <th>CF (Tutor Sequence Session)</th>\n",
       "      <th>CF (Tutor Sequence User)</th>\n",
       "      <th>CF (Unix Epoch)</th>\n",
       "      <th>CF (User Id Order)</th>\n",
       "      <th>CF (Version)</th>\n",
       "    </tr>\n",
       "  </thead>\n",
       "  <tbody>\n",
       "    <tr>\n",
       "      <th>0</th>\n",
       "      <td>1</td>\n",
       "      <td>All Data</td>\n",
       "      <td>556a357f1676e9f396b472affacf1052</td>\n",
       "      <td>20180421_081922-0-52000266fecfa4e5</td>\n",
       "      <td>52000266fecfa4e5_20180503_095852</td>\n",
       "      <td>2018-05-03 12:59:15</td>\n",
       "      <td>NaN</td>\n",
       "      <td>0</td>\n",
       "      <td>NaN</td>\n",
       "      <td>NaN</td>\n",
       "      <td>...</td>\n",
       "      <td>NaN</td>\n",
       "      <td>NaN</td>\n",
       "      <td>3</td>\n",
       "      <td>52000266fecfa4e5</td>\n",
       "      <td>5.0</td>\n",
       "      <td>1</td>\n",
       "      <td>1</td>\n",
       "      <td>1.525356e+12</td>\n",
       "      <td>2</td>\n",
       "      <td>sw.1.8.9.1</td>\n",
       "    </tr>\n",
       "    <tr>\n",
       "      <th>1</th>\n",
       "      <td>2</td>\n",
       "      <td>All Data</td>\n",
       "      <td>19b3b667ff8f23ef0eff507504b00b7e</td>\n",
       "      <td>20180421_081922-0-52000266fecfa4e5</td>\n",
       "      <td>52000266fecfa4e5_20180503_095852</td>\n",
       "      <td>2018-05-03 12:59:20</td>\n",
       "      <td>NaN</td>\n",
       "      <td>5</td>\n",
       "      <td>NaN</td>\n",
       "      <td>NaN</td>\n",
       "      <td>...</td>\n",
       "      <td>NaN</td>\n",
       "      <td>NaN</td>\n",
       "      <td>3</td>\n",
       "      <td>52000266fecfa4e5</td>\n",
       "      <td>5.0</td>\n",
       "      <td>1</td>\n",
       "      <td>1</td>\n",
       "      <td>1.525356e+12</td>\n",
       "      <td>3</td>\n",
       "      <td>sw.1.8.9.1</td>\n",
       "    </tr>\n",
       "    <tr>\n",
       "      <th>2</th>\n",
       "      <td>3</td>\n",
       "      <td>All Data</td>\n",
       "      <td>8e06a2e8593ad9e657942d8bed372ee7</td>\n",
       "      <td>20180421_081922-0-52000266fecfa4e5</td>\n",
       "      <td>52000266fecfa4e5_20180503_095852</td>\n",
       "      <td>2018-05-03 12:59:24</td>\n",
       "      <td>NaN</td>\n",
       "      <td>4</td>\n",
       "      <td>NaN</td>\n",
       "      <td>NaN</td>\n",
       "      <td>...</td>\n",
       "      <td>NaN</td>\n",
       "      <td>NaN</td>\n",
       "      <td>3</td>\n",
       "      <td>52000266fecfa4e5</td>\n",
       "      <td>5.0</td>\n",
       "      <td>1</td>\n",
       "      <td>1</td>\n",
       "      <td>1.525356e+12</td>\n",
       "      <td>4</td>\n",
       "      <td>sw.1.8.9.1</td>\n",
       "    </tr>\n",
       "    <tr>\n",
       "      <th>3</th>\n",
       "      <td>4</td>\n",
       "      <td>All Data</td>\n",
       "      <td>84127ffce7384bbbb55d6075633012ac</td>\n",
       "      <td>20180421_081922-0-52000266fecfa4e5</td>\n",
       "      <td>52000266fecfa4e5_20180503_095852</td>\n",
       "      <td>2018-05-03 12:59:28</td>\n",
       "      <td>NaN</td>\n",
       "      <td>4</td>\n",
       "      <td>NaN</td>\n",
       "      <td>NaN</td>\n",
       "      <td>...</td>\n",
       "      <td>NaN</td>\n",
       "      <td>NaN</td>\n",
       "      <td>3</td>\n",
       "      <td>52000266fecfa4e5</td>\n",
       "      <td>5.0</td>\n",
       "      <td>1</td>\n",
       "      <td>1</td>\n",
       "      <td>1.525356e+12</td>\n",
       "      <td>5</td>\n",
       "      <td>sw.1.8.9.1</td>\n",
       "    </tr>\n",
       "    <tr>\n",
       "      <th>4</th>\n",
       "      <td>5</td>\n",
       "      <td>All Data</td>\n",
       "      <td>a9afc7bf3339a253b07e1ae593a9663b</td>\n",
       "      <td>20180421_081922-0-52000266fecfa4e5</td>\n",
       "      <td>52000266fecfa4e5_20180503_095852</td>\n",
       "      <td>2018-05-03 12:59:55</td>\n",
       "      <td>NaN</td>\n",
       "      <td>27</td>\n",
       "      <td>NaN</td>\n",
       "      <td>NaN</td>\n",
       "      <td>...</td>\n",
       "      <td>NaN</td>\n",
       "      <td>NaN</td>\n",
       "      <td>3</td>\n",
       "      <td>52000266fecfa4e5</td>\n",
       "      <td>9.0</td>\n",
       "      <td>2</td>\n",
       "      <td>2</td>\n",
       "      <td>1.525356e+12</td>\n",
       "      <td>6</td>\n",
       "      <td>sw.1.8.9.1</td>\n",
       "    </tr>\n",
       "  </tbody>\n",
       "</table>\n",
       "<p>5 rows × 94 columns</p>\n",
       "</div>"
      ],
      "text/plain": [
       "   Row Sample Name                    Transaction Id  \\\n",
       "0    1    All Data  556a357f1676e9f396b472affacf1052   \n",
       "1    2    All Data  19b3b667ff8f23ef0eff507504b00b7e   \n",
       "2    3    All Data  8e06a2e8593ad9e657942d8bed372ee7   \n",
       "3    4    All Data  84127ffce7384bbbb55d6075633012ac   \n",
       "4    5    All Data  a9afc7bf3339a253b07e1ae593a9663b   \n",
       "\n",
       "                      Anon Student Id                        Session Id  \\\n",
       "0  20180421_081922-0-52000266fecfa4e5  52000266fecfa4e5_20180503_095852   \n",
       "1  20180421_081922-0-52000266fecfa4e5  52000266fecfa4e5_20180503_095852   \n",
       "2  20180421_081922-0-52000266fecfa4e5  52000266fecfa4e5_20180503_095852   \n",
       "3  20180421_081922-0-52000266fecfa4e5  52000266fecfa4e5_20180503_095852   \n",
       "4  20180421_081922-0-52000266fecfa4e5  52000266fecfa4e5_20180503_095852   \n",
       "\n",
       "                  Time  Time Zone Duration (sec)  Student Response Type  \\\n",
       "0  2018-05-03 12:59:15        NaN              0                    NaN   \n",
       "1  2018-05-03 12:59:20        NaN              5                    NaN   \n",
       "2  2018-05-03 12:59:24        NaN              4                    NaN   \n",
       "3  2018-05-03 12:59:28        NaN              4                    NaN   \n",
       "4  2018-05-03 12:59:55        NaN             27                    NaN   \n",
       "\n",
       "   Student Response Subtype      ...       CF (Student School)  \\\n",
       "0                       NaN      ...                       NaN   \n",
       "1                       NaN      ...                       NaN   \n",
       "2                       NaN      ...                       NaN   \n",
       "3                       NaN      ...                       NaN   \n",
       "4                       NaN      ...                       NaN   \n",
       "\n",
       "   CF (Student Used Scaffold) CF (Tablet Name) CF (Tablet Number)  \\\n",
       "0                         NaN                3   52000266fecfa4e5   \n",
       "1                         NaN                3   52000266fecfa4e5   \n",
       "2                         NaN                3   52000266fecfa4e5   \n",
       "3                         NaN                3   52000266fecfa4e5   \n",
       "4                         NaN                3   52000266fecfa4e5   \n",
       "\n",
       "  CF (Total Activity Problems)  CF (Tutor Sequence Session)  \\\n",
       "0                          5.0                            1   \n",
       "1                          5.0                            1   \n",
       "2                          5.0                            1   \n",
       "3                          5.0                            1   \n",
       "4                          9.0                            2   \n",
       "\n",
       "  CF (Tutor Sequence User)  CF (Unix Epoch)  CF (User Id Order)  CF (Version)  \n",
       "0                        1     1.525356e+12                   2    sw.1.8.9.1  \n",
       "1                        1     1.525356e+12                   3    sw.1.8.9.1  \n",
       "2                        1     1.525356e+12                   4    sw.1.8.9.1  \n",
       "3                        1     1.525356e+12                   5    sw.1.8.9.1  \n",
       "4                        2     1.525356e+12                   6    sw.1.8.9.1  \n",
       "\n",
       "[5 rows x 94 columns]"
      ]
     },
     "execution_count": 56,
     "metadata": {},
     "output_type": "execute_result"
    }
   ],
   "source": [
    "df_data_beta_sites.head()"
   ]
  },
  {
   "cell_type": "code",
   "execution_count": 57,
   "metadata": {
    "scrolled": true
   },
   "outputs": [
    {
     "data": {
      "text/plain": [
       "array(['Row', 'Sample Name', 'Transaction Id', 'Anon Student Id',\n",
       "       'Session Id', 'Time', 'Time Zone', 'Duration (sec)',\n",
       "       'Student Response Type', 'Student Response Subtype',\n",
       "       'Tutor Response Type', 'Tutor Response Subtype',\n",
       "       'Level (Tutor Name)', 'Level (Tutor)', 'Problem Name',\n",
       "       'Problem View', 'Problem Start Time', 'Step Name',\n",
       "       'Attempt At Step', 'Is Last Attempt', 'Outcome', 'Selection',\n",
       "       'Action', 'Input', 'Feedback Text', 'Feedback Classification',\n",
       "       'Help Level', 'Total Num Hints', 'KC (Tutor)',\n",
       "       'KC Category (Tutor)', 'KC (Tutor Problem Name)',\n",
       "       'KC Category (Tutor Problem Name)', 'KC (Village)',\n",
       "       'KC Category (Village)', 'KC (Matrix)', 'KC Category (Matrix)',\n",
       "       'KC (Order)', 'KC Category (Order)', 'KC (Channel)',\n",
       "       'KC Category (Channel)', 'KC (Option Behavior)',\n",
       "       'KC Category (Option Behavior)', 'KC (Content)',\n",
       "       'KC Category (Content)', 'KC (Content By Tutor)',\n",
       "       'KC Category (Content By Tutor)', 'KC (Offset)',\n",
       "       'KC Category (Offset)', 'KC (Specific Content Type)',\n",
       "       'KC Category (Specific Content Type)',\n",
       "       'KC (Number of Letters and Characters)',\n",
       "       'KC Category (Number of Letters and Characters)',\n",
       "       'KC (Similar Letters Upper and Lower)',\n",
       "       'KC Category (Similar Letters Upper and Lower)',\n",
       "       'KC (All Upper Lower)', 'KC Category (All Upper Lower)',\n",
       "       'KC (Single-KC)', 'KC Category (Single-KC)', 'KC (Unique-step)',\n",
       "       'KC Category (Unique-step)', 'School', 'Class',\n",
       "       'CF (Activity Finished)', 'CF (Activity Started)',\n",
       "       'CF (Attempt Number)', 'CF (Date)', 'CF (Duration Sec)',\n",
       "       'CF (Expected Answer)', 'CF (File)', 'CF (Hiatus Sec)',\n",
       "       'CF (Matrix)', 'CF (Matrix Level)', 'CF (Matrix Order)',\n",
       "       'CF (Original Order)', 'CF (Outcome Numeric)',\n",
       "       'CF (Placement Test Flag)', 'CF (Placement Test User)',\n",
       "       'CF (Problem Number)', 'CF (Session Id Order)', 'CF (Student)',\n",
       "       'CF (Student Age)', 'CF (Student Chose Repeat)',\n",
       "       'CF (Student Class)', 'CF (Student Gender)', 'CF (Student School)',\n",
       "       'CF (Student Used Scaffold)', 'CF (Tablet Name)',\n",
       "       'CF (Tablet Number)', 'CF (Total Activity Problems)',\n",
       "       'CF (Tutor Sequence Session)', 'CF (Tutor Sequence User)',\n",
       "       'CF (Unix Epoch)', 'CF (User Id Order)', 'CF (Version)'],\n",
       "      dtype=object)"
      ]
     },
     "execution_count": 57,
     "metadata": {},
     "output_type": "execute_result"
    }
   ],
   "source": [
    "list_columns_df_beta_sites = df_data_beta_sites.columns.values\n",
    "list_columns_df_beta_sites"
   ]
  },
  {
   "cell_type": "markdown",
   "metadata": {},
   "source": [
    "### Field Site"
   ]
  },
  {
   "cell_type": "code",
   "execution_count": 14,
   "metadata": {},
   "outputs": [
    {
     "name": "stderr",
     "output_type": "stream",
     "text": [
      "/home/amogh/anaconda3/lib/python3.6/site-packages/IPython/core/interactiveshell.py:2785: DtypeWarning: Columns (3,7,54,55,60,61) have mixed types. Specify dtype option on import or set low_memory=False.\n",
      "  interactivity=interactivity, compiler=compiler, result=result)\n"
     ]
    }
   ],
   "source": [
    "df_data_field = pd.read_csv(path_data_field, sep = '\\t')"
   ]
  },
  {
   "cell_type": "code",
   "execution_count": 15,
   "metadata": {},
   "outputs": [
    {
     "data": {
      "text/plain": [
       "array(['Row', 'Sample Name', 'Transaction Id', 'Anon Student Id',\n",
       "       'Session Id', 'Time', 'Time Zone', 'Duration (sec)',\n",
       "       'Student Response Type', 'Student Response Subtype',\n",
       "       'Tutor Response Type', 'Tutor Response Subtype',\n",
       "       'Level (Tutor Name)', 'Level (Tutor)', 'Problem Name',\n",
       "       'Problem View', 'Problem Start Time', 'Step Name',\n",
       "       'Attempt At Step', 'Is Last Attempt', 'Outcome', 'Selection',\n",
       "       'Action', 'Input', 'Feedback Text', 'Feedback Classification',\n",
       "       'Help Level', 'Total Num Hints', 'KC (Tutor)',\n",
       "       'KC Category (Tutor)', 'KC (Tutor Problem Name)',\n",
       "       'KC Category (Tutor Problem Name)', 'KC (Village)',\n",
       "       'KC Category (Village)', 'KC (Matrix)', 'KC Category (Matrix)',\n",
       "       'KC (Single-KC)', 'KC Category (Single-KC)', 'KC (Unique-step)',\n",
       "       'KC Category (Unique-step)', 'School', 'Class',\n",
       "       'CF (Activity Finished)', 'CF (Activity Started)',\n",
       "       'CF (Attempt Number)', 'CF (Date)', 'CF (Duration sec)',\n",
       "       'CF (Expected Answer)', 'CF (File)', 'CF (Matrix)',\n",
       "       'CF (Matrix Level)', 'CF (Matrix Order)', 'CF (Original Order)',\n",
       "       'CF (Outcome Numeric)', 'CF (Placement Test Flag)',\n",
       "       'CF (Placement Test User)', 'CF (Problem Number)',\n",
       "       'CF (Session Id Order)', 'CF (Session Sequence)',\n",
       "       'CF (Student Chose Repeat)', 'CF (Student Used Scaffold)',\n",
       "       'CF (Tablet Number)', 'CF (Total Activity Problems)',\n",
       "       'CF (Tutor Sequence Session)', 'CF (Tutor Sequence User)',\n",
       "       'CF (Unix Epoch)', 'CF (User Id Order)', 'CF (Version)'],\n",
       "      dtype=object)"
      ]
     },
     "execution_count": 15,
     "metadata": {},
     "output_type": "execute_result"
    }
   ],
   "source": [
    "list_columns_df_field = df_data_field.columns.values\n",
    "list_columns_df_field"
   ]
  },
  {
   "cell_type": "code",
   "execution_count": 16,
   "metadata": {},
   "outputs": [
    {
     "data": {
      "text/plain": [
       "[128,\n",
       " 129,\n",
       " 130,\n",
       " 133,\n",
       " 134,\n",
       " 140,\n",
       " 114,\n",
       " 117,\n",
       " 118,\n",
       " 119,\n",
       " 120,\n",
       " 121,\n",
       " 122,\n",
       " 123,\n",
       " 125,\n",
       " 126]"
      ]
     },
     "execution_count": 16,
     "metadata": {},
     "output_type": "execute_result"
    }
   ],
   "source": [
    "list_field_village_names = list(set(df_data_field['KC (Village)']))\n",
    "list_field_village_names"
   ]
  },
  {
   "cell_type": "markdown",
   "metadata": {},
   "source": [
    "### Some inferences from data"
   ]
  },
  {
   "cell_type": "markdown",
   "metadata": {},
   "source": [
    "No of dates featured in beta sites data from before 2018"
   ]
  },
  {
   "cell_type": "code",
   "execution_count": 92,
   "metadata": {
    "scrolled": true
   },
   "outputs": [
    {
     "data": {
      "text/plain": [
       "47"
      ]
     },
     "execution_count": 92,
     "metadata": {},
     "output_type": "execute_result"
    }
   ],
   "source": [
    "beta_sites_list_dates_before_2018 = list(set(df_data_beta_sites['CF (Date)']))\n",
    "beta_sites_list_dates_before_2018 = [d for d in field_sites_list_dates_before_2018 if datetime.strptime(d, \"%Y-%m-%d\").date() < datetime.strptime('2018-01-01', \"%Y-%m-%d\").date()]\n",
    "len(beta_sites_list_dates_before_2018)"
   ]
  },
  {
   "cell_type": "markdown",
   "metadata": {},
   "source": [
    "No of dates featured in field sites data from before 2018"
   ]
  },
  {
   "cell_type": "code",
   "execution_count": 96,
   "metadata": {},
   "outputs": [
    {
     "data": {
      "text/plain": [
       "12"
      ]
     },
     "execution_count": 96,
     "metadata": {},
     "output_type": "execute_result"
    }
   ],
   "source": [
    "field_sites_list_dates_before_2018 = list(set(df_data_field['CF (Date)']))\n",
    "field_sites_list_dates_before_2018 = [d for d in field_sites_list_dates_before_2018 if datetime.strptime(d, \"%Y-%m-%d\").date() < datetime.strptime('2018-01-01', \"%Y-%m-%d\").date()]\n",
    "len(field_sites_list_dates_before_2018)"
   ]
  },
  {
   "cell_type": "markdown",
   "metadata": {},
   "source": [
    "### Analysing number of unique students and NaN entries"
   ]
  },
  {
   "cell_type": "code",
   "execution_count": 26,
   "metadata": {
    "scrolled": true
   },
   "outputs": [
    {
     "data": {
      "text/plain": [
       "146"
      ]
     },
     "execution_count": 26,
     "metadata": {},
     "output_type": "execute_result"
    }
   ],
   "source": [
    "#no of legit anonymous ids\n",
    "16861 - 16715"
   ]
  },
  {
   "cell_type": "code",
   "execution_count": 27,
   "metadata": {
    "scrolled": true
   },
   "outputs": [
    {
     "data": {
      "text/plain": [
       "(1162417, 68)"
      ]
     },
     "execution_count": 27,
     "metadata": {},
     "output_type": "execute_result"
    }
   ],
   "source": [
    "# total df shape\n",
    "df_data_field.shape"
   ]
  },
  {
   "cell_type": "code",
   "execution_count": 28,
   "metadata": {},
   "outputs": [
    {
     "data": {
      "text/plain": [
       "16861"
      ]
     },
     "execution_count": 28,
     "metadata": {},
     "output_type": "execute_result"
    }
   ],
   "source": [
    "#total anonymous id \n",
    "len(list(set(df_data_field['Anon Student Id'])))"
   ]
  },
  {
   "cell_type": "code",
   "execution_count": 29,
   "metadata": {},
   "outputs": [
    {
     "data": {
      "text/plain": [
       "16728"
      ]
     },
     "execution_count": 29,
     "metadata": {},
     "output_type": "execute_result"
    }
   ],
   "source": [
    "#no of elements whose frequency is 1\n",
    "np.array([(np.array(e) == 1.0).sum() for e in ([a[1] for a in dic_village_freqdur_field.values()])]).sum()"
   ]
  },
  {
   "cell_type": "markdown",
   "metadata": {},
   "source": [
    "## Helper functions"
   ]
  },
  {
   "cell_type": "code",
   "execution_count": 17,
   "metadata": {},
   "outputs": [],
   "source": [
    "def getTotalDuration(df_data, village, student_id):\n",
    "    \n",
    "    \"\"\"\n",
    "    Input: data dataframe, village name, student_id\n",
    "    Returns the total amount of usage in seconds for the tutor across all sessions in the data for a particular student in a village.\n",
    "    \"\"\"\n",
    "    \n",
    "    df_student = df_data[(df_data['KC (Village)'] == village) & (df_data['Anon Student Id'] == student_id)]\n",
    "    list_sessions = list(set(df_student['Session Id']))\n",
    "    list_sess_dur = []\n",
    "    sess_dur_sec = 0\n",
    "    for sess in list_sessions:\n",
    "        df_sess = df_student [df_student['Session Id'] == sess]\n",
    "        DT = '%Y-%m-%d %H:%M:%S'\n",
    "        list_times = list(df_sess['Time'])\n",
    "        list_times = sorted(list_times, key=lambda x: datetime.strptime(x, DT))\n",
    "        diff_time = datetime.strptime(list_times[-1],DT) - datetime.strptime(list_times[0],DT)\n",
    "        list_sess_dur.append(diff_time.seconds)\n",
    "        if(diff_time.seconds > 50000):\n",
    "            print(\"\\n DEBUG session duration>50000 in getTotalDuration for village {}, student id {}, session id {}\".format(village, student_id, sess))\n",
    "            print(\"start and end times are: \",datetime.strptime(list_times[0],DT),datetime.strptime(list_times[-1],DT))\n",
    "        sess_dur_sec += diff_time.seconds\n",
    "    if(sess_dur_sec/60. > 1000):\n",
    "        print(\"\\n DEBUG Total duration>1000 min in getTotalDuration for village {}, student id {}\".format(village, student_id))\n",
    "        print(\"number of sessions are: {} over {} days, with a maximum usage of : {} minutes\".format(len(list_sessions), len(list(set(df_student['CF (Date)']))),max(list_sess_dur)/60))\n",
    "        \n",
    "#     print(\"the tutor was used for {} seconds which is {} minutes\".format(sess_dur_sec,sess_dur_sec/60))        \n",
    "    return sess_dur_sec\n"
   ]
  },
  {
   "cell_type": "code",
   "execution_count": 103,
   "metadata": {},
   "outputs": [],
   "source": [
    "def getTotalUseDays(df_data, village, student_id):\n",
    "    \n",
    "    \"\"\"\n",
    "    Input: data dataframe, village name, student_id, function to separate date and time\n",
    "    Returns the total number of days tutor was used for a particular student in a village.\n",
    "    \"\"\"\n",
    "    \n",
    "    df_student = df_data[(df_data['KC (Village)'] == village) & (df_data['Anon Student Id'] == student_id)]\n",
    "    list_dates = list(set(df_student['CF (Date)']))\n",
    "    list_dates = [d for d in list_dates if datetime.strptime(d, \"%Y-%m-%d\").date() > datetime.strptime('2018-01-01', \"%Y-%m-%d\").date()]\n",
    "    no_use_days = len(list_dates)\n",
    "    if no_use_days == 0:\n",
    "        no_use_days = 1\n",
    "#     print(\"the tutor was used for {} days\".format(no_use_days))    \n",
    "    return no_use_days"
   ]
  },
  {
   "cell_type": "code",
   "execution_count": 104,
   "metadata": {},
   "outputs": [],
   "source": [
    "def getTotalUsableDays(df_data, village, student_id):\n",
    "    \n",
    "    \"\"\"\n",
    "    Input: data dataframe, village name, student_id\n",
    "    Returns the total number of days tutor could've been used for a particular student in a particular village.\n",
    "    \"\"\"\n",
    "    \n",
    "    df_student = df_data[(df_data['KC (Village)'] == village) & (df_data['Anon Student Id'] == student_id)]\n",
    "    list_dates = list(set(df_student['CF (Date)']))\n",
    "    list_dates = sorted(list_dates, key=lambda x:datetime.strptime(x, \"%Y-%m-%d\"))\n",
    "    list_dates = [d for d in list_dates if datetime.strptime(d, \"%Y-%m-%d\").date() > datetime.strptime('2018-01-01', \"%Y-%m-%d\").date()]\n",
    "    if len(list_dates)>0:\n",
    "        first_use_date = list_dates[0]\n",
    "        if (village == \"Bagamoyo\" or village == \"Mugeta\"):\n",
    "            last_use_date = datetime.strptime(\"2018-07-19\",\"%Y-%m-%d\")\n",
    "        else:\n",
    "            last_use_date = datetime.strptime(\"2018-06-29\",\"%Y-%m-%d\")\n",
    "        no_usable_days = 1 + (last_use_date - datetime.strptime(first_use_date,\"%Y-%m-%d\")).days\n",
    "    else:\n",
    "        no_usable_days = 1\n",
    "    if no_usable_days > 120:\n",
    "        print(\"\\n DEBUG no_usable_days > 120\")\n",
    "        print(\"first and last dates of use are: \", first_use_date, last_use_date)\n",
    "#     print(\"the tutor was usable over {} days\".format(no_usable_days))    \n",
    "    return no_usable_days"
   ]
  },
  {
   "cell_type": "raw",
   "metadata": {},
   "source": [
    "#sample_use\n",
    "getTotalDuration(df_data_beta_sites, 'Bagamoyo', '20180421_081922-0-52000266fecfa4e5')"
   ]
  },
  {
   "cell_type": "raw",
   "metadata": {},
   "source": [
    "#sample_use\n",
    "getTotalUseDays(df_data_beta_sites, 'Bagamoyo', '20180421_081922-0-52000266fecfa4e5')"
   ]
  },
  {
   "cell_type": "raw",
   "metadata": {},
   "source": [
    "#sample_use\n",
    "getTotalUsableDays(df_data_beta_sites, 'Bagamoyo', '20180421_081922-0-52000266fecfa4e5')"
   ]
  },
  {
   "cell_type": "code",
   "execution_count": 105,
   "metadata": {},
   "outputs": [],
   "source": [
    "def getNumberOfSessions(df_data, village, student_id):\n",
    "    \n",
    "    \"\"\"\n",
    "    Input: data, village name, student id\n",
    "    Returns the number of sessions recorded for a student_id\n",
    "    \"\"\"\n",
    "    \n",
    "    df_student = df_data[(df_data['KC (Village)'] == village) & (df_data['Anon Student Id'] == student_id)]\n",
    "    num_sessions = len(list(set(df_student['Session Id'])))\n",
    "    return num_sessions"
   ]
  },
  {
   "cell_type": "markdown",
   "metadata": {},
   "source": [
    "## Functions to get avg session duration and average session frequency"
   ]
  },
  {
   "cell_type": "code",
   "execution_count": 106,
   "metadata": {},
   "outputs": [],
   "source": [
    "def getAvgSessionDuration(df_data, village, student_id):\n",
    "    \n",
    "    \"\"\"\n",
    "    Input: data, village name, student id\n",
    "    Returns the avg session duration obtained by dividing total use time by no of days that the tutor was used by a particular student in a particular village\n",
    "    \"\"\"\n",
    "    \n",
    "    total_duration = getTotalDuration(df_data, village, student_id)\n",
    "    total_use_days = getTotalUseDays(df_data, village, student_id)\n",
    "    if(total_use_days) == 0:\n",
    "        total_use_days = 1\n",
    "    avg_session_duration = total_duration/total_use_days\n",
    "    \n",
    "    if avg_session_duration/60. > 360:\n",
    "        print(\"\\n DEBUG Avg Session Duration\")\n",
    "        print(\"avg session duration >360 minutes ie: \", avg_session_duration/60.,\"for village: \", village,\"student id: \", student_id, \" and total use days are: \", total_use_days,\" and the total duration in minutes is \", total_duration/60)\n",
    "        \n",
    "    return avg_session_duration"
   ]
  },
  {
   "cell_type": "code",
   "execution_count": 107,
   "metadata": {},
   "outputs": [],
   "source": [
    "def getAvgSessionFrequency(df_data, village, student_id):\n",
    "\n",
    "    \"\"\"\n",
    "    Input: data, village name, student id\n",
    "    Returns the avg session frequency obtained by dividing total number of days used divided by number of days it could have been used by a particular student in a particular village\n",
    "    \"\"\"\n",
    "    \n",
    "    total_days_used = getTotalUseDays(df_data, village, student_id)\n",
    "    total_days_usable = getTotalUsableDays(df_data, village, student_id)\n",
    "    if(total_days_usable) == 0:\n",
    "        print(\"\\n DEBUG Avg Session Frequency\")\n",
    "        print(\"The total usable days computed is 0 for village: \", village, \" student id: \", student_id)\n",
    "    if(total_days_usable) > 120:\n",
    "        print(\"\\n DEBUG Avg Session Frequency\")\n",
    "        print(\"The total usable days computed is > 120 ie: \",total_days_usable,\" for village: \", village, \" student id: \", student_id)\n",
    "    avg_session_frequency = total_days_used / total_days_usable\n",
    "    return avg_session_frequency"
   ]
  },
  {
   "cell_type": "markdown",
   "metadata": {},
   "source": [
    "## Functions to get village level statistics"
   ]
  },
  {
   "cell_type": "code",
   "execution_count": 108,
   "metadata": {},
   "outputs": [],
   "source": [
    "def getDurationFrequencyInVillage(df_data, village):\n",
    "    \n",
    "    \"\"\"\n",
    "    Returns the tuple of two lists - of average session frequency and average session frequency\n",
    "    \"\"\"\n",
    "    \n",
    "    list_children = list(set(df_data[df_data['KC (Village)'] == village] ['Anon Student Id']))\n",
    "    print(\"Village {} has {} student ids\".format(village, len(list_children)))\n",
    "    list_avg_session_duration = [getAvgSessionDuration(df_data, village, student_id) for student_id in list_children]\n",
    "    list_avg_session_frequency = [getAvgSessionFrequency(df_data, village, student_id) for student_id in list_children]\n",
    "    return list_avg_session_duration, list_avg_session_frequency"
   ]
  },
  {
   "cell_type": "code",
   "execution_count": 113,
   "metadata": {},
   "outputs": [],
   "source": [
    "def getNumberOfSessionsInVillage(df_data, village):\n",
    "    \n",
    "    \"\"\"\n",
    "    Returns a list with number of sessions in a village \n",
    "    \"\"\"\n",
    "    \n",
    "    list_children = list(set(df_data[df_data['KC (Village)'] == village] ['Anon Student Id']))\n",
    "    list_number_of_sessions = [getNumberOfSessions(df_data,village,student_id) for student_id in list_children]\n",
    "    return list_number_of_sessions"
   ]
  },
  {
   "cell_type": "code",
   "execution_count": 114,
   "metadata": {},
   "outputs": [],
   "source": [
    "def getDistinctDaysInVillage(df_data, village):\n",
    "    \n",
    "    \"\"\"\n",
    "    Returns a list with distinct number of days of use in a village\n",
    "    \"\"\"\n",
    "    \n",
    "    list_children = list(set(df_data[df_data['KC (Village)'] == village] ['Anon Student Id']))\n",
    "    list_distinct_days = [getTotalUseDays(df_data,village,student_id) for student_id in list_children]\n",
    "    return list_distinct_days"
   ]
  },
  {
   "cell_type": "code",
   "execution_count": 139,
   "metadata": {},
   "outputs": [],
   "source": [
    "def getNumberOfKids(village):\n",
    "    \n",
    "    \"\"\"\n",
    "    Returns number of kids in a village\n",
    "    \"\"\"\n",
    "    \n",
    "    if(village == \"Mugeta\" or village == \"Bagamoyo\"):\n",
    "        df_data = df_data_beta_sites\n",
    "    else:\n",
    "        df_data = df_data_field\n",
    "    list_children = list(set(df_data[df_data['KC (Village)'] == village] ['Anon Student Id']))\n",
    "    return len(list_children)"
   ]
  },
  {
   "cell_type": "raw",
   "metadata": {},
   "source": [
    "#sample_use\n",
    "getDurationFrequencyInVillage(df_data_beta_sites,\"Bagamoyo\")\n",
    "getDistinctDaysInVillage(df_data_beta_sites, \"Bagamoyo\")\n",
    "getNumberOfSessionsInVillage(df_data_beta_sites, \"Bagamoyo\")"
   ]
  },
  {
   "cell_type": "markdown",
   "metadata": {
    "heading_collapsed": true
   },
   "source": [
    "## Visualising scatters for villages"
   ]
  },
  {
   "cell_type": "code",
   "execution_count": 23,
   "metadata": {
    "hidden": true
   },
   "outputs": [],
   "source": [
    "list_villages_beta = list(set(df_data_beta_sites['KC (Village)']))\n",
    "list_villages_field = list(set(df_data_field['KC (Village)']))"
   ]
  },
  {
   "cell_type": "code",
   "execution_count": 24,
   "metadata": {
    "hidden": true,
    "scrolled": true
   },
   "outputs": [
    {
     "name": "stdout",
     "output_type": "stream",
     "text": [
      "Village Bagamoyo has 109 student ids\n",
      "\n",
      " DEBUG session duration>50000 in getTotalDuration for village Bagamoyo, student id 20180423_182142-2-52009e8afef694ad, session id 52009e8afef694ad_20180425_182452\n",
      "start and end times are:  2018-04-25 14:25:07 2018-04-28 13:21:46\n",
      "\n",
      " DEBUG Total duration>1000 min in getTotalDuration for village Bagamoyo, student id 20180423_182142-2-52009e8afef694ad\n",
      "number of sessions are: 8 over 4 days, with a maximum usage of : 1376.65 minutes\n",
      "\n",
      " DEBUG session duration>50000 in getTotalDuration for village Bagamoyo, student id 20180516_120752-15-5B02000315, session id 5B02000315_20180516_124545\n",
      "start and end times are:  2018-05-16 08:45:58 2018-05-17 07:40:41\n",
      "\n",
      " DEBUG Total duration>1000 min in getTotalDuration for village Bagamoyo, student id 20180516_120752-15-5B02000315\n",
      "number of sessions are: 5 over 2 days, with a maximum usage of : 1374.7166666666667 minutes\n",
      "\n",
      " DEBUG Avg Session Duration\n",
      "avg session duration >360 minutes ie:  721.2166666666667 for village:  Bagamoyo student id:  20180516_120752-15-5B02000315  and total use days are:  2  and the total duration in minutes is  1442.4333333333334\n",
      "Village Mugeta has 121 student ids\n",
      "\n",
      " DEBUG Total duration>1000 min in getTotalDuration for village Mugeta, student id DEBUG\n",
      "number of sessions are: 401 over 26 days, with a maximum usage of : 47.1 minutes\n"
     ]
    }
   ],
   "source": [
    "dic_village_freqdur_beta_sites = {village:getDurationFrequencyInVillage(df_data_beta_sites,village) for village in list_villages_beta}"
   ]
  },
  {
   "cell_type": "code",
   "execution_count": 25,
   "metadata": {
    "hidden": true
   },
   "outputs": [
    {
     "name": "stdout",
     "output_type": "stream",
     "text": [
      "Village 128 has 15 student ids\n",
      "\n",
      " DEBUG Avg Session Duration\n",
      "avg session duration >360 minutes ie:  509.1666666666667 for village:  128 student id:  6111002085  and total use days are:  1  and the total duration in minutes is  509.1666666666667\n",
      "Village 129 has 11 student ids\n",
      "\n",
      " DEBUG Total duration>1000 min in getTotalDuration for village 129, student id 5B20001235\n",
      "number of sessions are: 55 over 6 days, with a maximum usage of : 75.4 minutes\n",
      "\n",
      " DEBUG Avg Session Duration\n",
      "avg session duration >360 minutes ie:  566.25 for village:  129 student id:  5B20001235  and total use days are:  2  and the total duration in minutes is  1132.5\n",
      "\n",
      " DEBUG session duration>50000 in getTotalDuration for village 129, student id 6116001314, session id 6116001314_20180617_185153\n",
      "start and end times are:  2018-06-17 18:56:40 2018-06-18 15:13:20\n",
      "\n",
      " DEBUG Total duration>1000 min in getTotalDuration for village 129, student id 6116001314\n",
      "number of sessions are: 16 over 7 days, with a maximum usage of : 1216.6666666666667 minutes\n",
      "\n",
      " DEBUG Avg Session Duration\n",
      "avg session duration >360 minutes ie:  440.95238095238096 for village:  129 student id:  6116001314  and total use days are:  7  and the total duration in minutes is  3086.6666666666665\n",
      "\n",
      " DEBUG session duration>50000 in getTotalDuration for village 129, student id 6116002541, session id 6116002541_20180616_194012\n",
      "start and end times are:  2018-06-16 19:36:40 2018-06-17 10:03:20\n",
      "\n",
      " DEBUG Total duration>1000 min in getTotalDuration for village 129, student id 6116002541\n",
      "number of sessions are: 25 over 7 days, with a maximum usage of : 866.6666666666666 minutes\n",
      "\n",
      " DEBUG session duration>50000 in getTotalDuration for village 129, student id 5B19001335, session id 5B19001335_20180617_160553\n",
      "start and end times are:  2018-06-17 16:10:00 2018-06-18 06:36:40\n",
      "\n",
      " DEBUG Total duration>1000 min in getTotalDuration for village 129, student id 5B19001335\n",
      "number of sessions are: 63 over 9 days, with a maximum usage of : 866.6666666666666 minutes\n",
      "\n",
      " DEBUG Avg Session Duration\n",
      "avg session duration >360 minutes ie:  433.3 for village:  129 student id:  5B19001335  and total use days are:  4  and the total duration in minutes is  1733.2\n",
      "Village 130 has 1 student ids\n",
      "Village 133 has 9 student ids\n",
      "Village 134 has 16 student ids\n",
      "\n",
      " DEBUG session duration>50000 in getTotalDuration for village 134, student id 6118003300, session id 6118003300_20180617_084405\n",
      "start and end times are:  2018-06-17 08:40:00 2018-06-18 08:00:00\n",
      "\n",
      " DEBUG Total duration>1000 min in getTotalDuration for village 134, student id 6118003300\n",
      "number of sessions are: 20 over 4 days, with a maximum usage of : 1400.0 minutes\n",
      "\n",
      " DEBUG Avg Session Duration\n",
      "avg session duration >360 minutes ie:  537.5 for village:  134 student id:  6118003300  and total use days are:  4  and the total duration in minutes is  2150.0\n",
      "\n",
      " DEBUG session duration>50000 in getTotalDuration for village 134, student id 5A28000383, session id 5A28000383_20000105_082252\n",
      "start and end times are:  2000-01-05 07:23:06 2000-01-06 07:07:40\n",
      "\n",
      " DEBUG Total duration>1000 min in getTotalDuration for village 134, student id 5A28000383\n",
      "number of sessions are: 34 over 5 days, with a maximum usage of : 1424.5666666666666 minutes\n",
      "\n",
      " DEBUG Avg Session Duration\n",
      "avg session duration >360 minutes ie:  2364.3 for village:  134 student id:  5A28000383  and total use days are:  1  and the total duration in minutes is  2364.3\n",
      "\n",
      " DEBUG Total duration>1000 min in getTotalDuration for village 134, student id 6109000137\n",
      "number of sessions are: 15 over 5 days, with a maximum usage of : 700.0 minutes\n",
      "\n",
      " DEBUG Avg Session Duration\n",
      "avg session duration >360 minutes ie:  493.3333333333333 for village:  134 student id:  6109000137  and total use days are:  5  and the total duration in minutes is  2466.6666666666665\n",
      "\n",
      " DEBUG Total duration>1000 min in getTotalDuration for village 134, student id 6109000137\n",
      "number of sessions are: 37 over 5 days, with a maximum usage of : 633.3333333333334 minutes\n",
      "\n",
      " DEBUG Avg Session Duration\n",
      "avg session duration >360 minutes ie:  373.3333333333333 for village:  134 student id:  6109000137  and total use days are:  5  and the total duration in minutes is  1866.6666666666667\n",
      "\n",
      " DEBUG Avg Session Duration\n",
      "avg session duration >360 minutes ie:  388.3833333333333 for village:  134 student id:  5A27001487  and total use days are:  1  and the total duration in minutes is  388.3833333333333\n",
      "\n",
      " DEBUG Total duration>1000 min in getTotalDuration for village 134, student id 5B20001298\n",
      "number of sessions are: 57 over 11 days, with a maximum usage of : 766.6666666666666 minutes\n",
      "\n",
      " DEBUG session duration>50000 in getTotalDuration for village 134, student id 6115001489, session id 6115001489_20000106_112005\n",
      "start and end times are:  2000-01-06 10:20:18 2000-01-07 02:09:32\n",
      "\n",
      " DEBUG Total duration>1000 min in getTotalDuration for village 134, student id 6115001489\n",
      "number of sessions are: 25 over 6 days, with a maximum usage of : 949.2333333333333 minutes\n",
      "\n",
      " DEBUG Avg Session Duration\n",
      "avg session duration >360 minutes ie:  1830.8166666666666 for village:  134 student id:  6115001489  and total use days are:  1  and the total duration in minutes is  1830.8166666666666\n",
      "\n",
      " DEBUG Total duration>1000 min in getTotalDuration for village 134, student id 5A28002324\n",
      "number of sessions are: 38 over 7 days, with a maximum usage of : 683.3333333333334 minutes\n",
      "\n",
      " DEBUG Total duration>1000 min in getTotalDuration for village 134, student id 6116002196\n",
      "number of sessions are: 49 over 8 days, with a maximum usage of : 621.8833333333333 minutes\n",
      "\n",
      " DEBUG Avg Session Duration\n",
      "avg session duration >360 minutes ie:  430.1458333333333 for village:  134 student id:  6116002196  and total use days are:  4  and the total duration in minutes is  1720.5833333333333\n",
      "\n",
      " DEBUG Total duration>1000 min in getTotalDuration for village 134, student id 6116002623\n",
      "number of sessions are: 44 over 3 days, with a maximum usage of : 600.0 minutes\n",
      "\n",
      " DEBUG Avg Session Duration\n",
      "avg session duration >360 minutes ie:  522.2222222222222 for village:  134 student id:  6116002623  and total use days are:  3  and the total duration in minutes is  1566.6666666666667\n",
      "Village 140 has 11 student ids\n",
      "Village 114 has 2 student ids\n",
      "Village 117 has 13 student ids\n",
      "\n",
      " DEBUG Total duration>1000 min in getTotalDuration for village 117, student id 6113000610\n",
      "number of sessions are: 80 over 6 days, with a maximum usage of : 584.3833333333333 minutes\n",
      "\n",
      " DEBUG session duration>50000 in getTotalDuration for village 117, student id 6118001764, session id 6118001764_20180618_194526\n",
      "start and end times are:  2018-06-18 19:40:00 2018-06-19 09:50:00\n",
      "\n",
      " DEBUG session duration>50000 in getTotalDuration for village 117, student id 6118001764, session id 6118001764_20180621_200529\n",
      "start and end times are:  2018-06-21 20:10:00 2018-06-22 15:20:00\n",
      "\n",
      " DEBUG session duration>50000 in getTotalDuration for village 117, student id 6118001764, session id 6118001764_20180620_190608\n",
      "start and end times are:  2018-06-20 19:10:00 2018-06-21 10:26:40\n",
      "\n",
      " DEBUG Total duration>1000 min in getTotalDuration for village 117, student id 6118001764\n",
      "number of sessions are: 13 over 7 days, with a maximum usage of : 1150.0 minutes\n",
      "\n",
      " DEBUG Avg Session Duration\n",
      "avg session duration >360 minutes ie:  583.15 for village:  117 student id:  6118001764  and total use days are:  7  and the total duration in minutes is  4082.05\n",
      "\n",
      " DEBUG session duration>50000 in getTotalDuration for village 117, student id 5B20001222, session id 5B20001222_20180616_015521\n",
      "start and end times are:  2018-06-16 01:55:35 2018-06-16 22:13:51\n",
      "\n",
      " DEBUG Total duration>1000 min in getTotalDuration for village 117, student id 5B20001222\n",
      "number of sessions are: 28 over 5 days, with a maximum usage of : 1218.2666666666667 minutes\n",
      "\n",
      " DEBUG Avg Session Duration\n",
      "avg session duration >360 minutes ie:  757.8033333333333 for village:  117 student id:  5B20001222  and total use days are:  5  and the total duration in minutes is  3789.016666666667\n",
      "\n",
      " DEBUG session duration>50000 in getTotalDuration for village 117, student id 6116002824, session id 6116002824_20180619_203026\n",
      "start and end times are:  2018-06-19 20:23:20 2018-06-20 11:56:40\n",
      "\n",
      " DEBUG session duration>50000 in getTotalDuration for village 117, student id 6116002824, session id 6116002824_20180618_120936\n",
      "start and end times are:  2018-06-18 12:10:00 2018-06-19 12:03:20\n",
      "\n",
      " DEBUG Total duration>1000 min in getTotalDuration for village 117, student id 6116002824\n",
      "number of sessions are: 32 over 6 days, with a maximum usage of : 1433.3333333333333 minutes\n"
     ]
    },
    {
     "name": "stdout",
     "output_type": "stream",
     "text": [
      "\n",
      " DEBUG Avg Session Duration\n",
      "avg session duration >360 minutes ie:  452.35833333333335 for village:  117 student id:  6116002824  and total use days are:  6  and the total duration in minutes is  2714.15\n",
      "\n",
      " DEBUG session duration>50000 in getTotalDuration for village 117, student id 6116002699, session id 6116002699_20180617_173619\n",
      "start and end times are:  2018-06-17 17:33:20 2018-06-20 12:46:40\n",
      "\n",
      " DEBUG Total duration>1000 min in getTotalDuration for village 117, student id 6116002699\n",
      "number of sessions are: 33 over 5 days, with a maximum usage of : 1153.3333333333333 minutes\n",
      "\n",
      " DEBUG Total duration>1000 min in getTotalDuration for village 117, student id 6112001529\n",
      "number of sessions are: 50 over 4 days, with a maximum usage of : 212.53333333333333 minutes\n",
      "\n",
      " DEBUG session duration>50000 in getTotalDuration for village 117, student id 5A27002171, session id 5A27002171_20180616_163026\n",
      "start and end times are:  2018-06-16 16:30:57 2018-06-17 14:17:49\n",
      "\n",
      " DEBUG Total duration>1000 min in getTotalDuration for village 117, student id 5A27002171\n",
      "number of sessions are: 74 over 9 days, with a maximum usage of : 1306.8666666666666 minutes\n",
      "\n",
      " DEBUG Avg Session Duration\n",
      "avg session duration >360 minutes ie:  558.5208333333334 for village:  117 student id:  5A27002171  and total use days are:  4  and the total duration in minutes is  2234.0833333333335\n",
      "\n",
      " DEBUG Total duration>1000 min in getTotalDuration for village 117, student id 6115000397\n",
      "number of sessions are: 55 over 8 days, with a maximum usage of : 695.5166666666667 minutes\n",
      "\n",
      " DEBUG session duration>50000 in getTotalDuration for village 117, student id 6128000880, session id 6128000880_20180605_171925\n",
      "start and end times are:  2018-06-05 17:19:38 2018-06-06 09:50:11\n",
      "\n",
      " DEBUG Total duration>1000 min in getTotalDuration for village 117, student id 6128000880\n",
      "number of sessions are: 50 over 13 days, with a maximum usage of : 990.55 minutes\n",
      "\n",
      " DEBUG Avg Session Duration\n",
      "avg session duration >360 minutes ie:  401.19166666666666 for village:  117 student id:  6128000880  and total use days are:  8  and the total duration in minutes is  3209.5333333333333\n",
      "\n",
      " DEBUG session duration>50000 in getTotalDuration for village 117, student id 5A28000198, session id 5A28000198_20180620_152315\n",
      "start and end times are:  2018-06-20 15:16:40 2018-06-21 07:06:40\n",
      "\n",
      " DEBUG session duration>50000 in getTotalDuration for village 117, student id 5A28000198, session id 5A28000198_20180614_163633\n",
      "start and end times are:  2018-06-14 16:37:06 2018-06-15 15:11:33\n",
      "\n",
      " DEBUG session duration>50000 in getTotalDuration for village 117, student id 5A28000198, session id 5A28000198_20180616_124553\n",
      "start and end times are:  2018-06-16 12:46:09 2018-06-17 06:20:32\n",
      "\n",
      " DEBUG Total duration>1000 min in getTotalDuration for village 117, student id 5A28000198\n",
      "number of sessions are: 76 over 12 days, with a maximum usage of : 1354.45 minutes\n",
      "\n",
      " DEBUG Avg Session Duration\n",
      "avg session duration >360 minutes ie:  487.6402777777778 for village:  117 student id:  5A28000198  and total use days are:  12  and the total duration in minutes is  5851.683333333333\n",
      "Village 118 has 5 student ids\n",
      "\n",
      " DEBUG Avg Session Duration\n",
      "avg session duration >360 minutes ie:  857.9833333333333 for village:  118 student id:  5B12004776  and total use days are:  1  and the total duration in minutes is  857.9833333333333\n",
      "Village 119 has 16715 student ids\n",
      "Village 120 has 16 student ids\n",
      "\n",
      " DEBUG session duration>50000 in getTotalDuration for village 120, student id 6118002174, session id 6118002174_20180614_113451\n",
      "start and end times are:  2018-06-14 11:30:00 2018-06-18 09:06:40\n",
      "\n",
      " DEBUG Total duration>1000 min in getTotalDuration for village 120, student id 6118002174\n",
      "number of sessions are: 3 over 4 days, with a maximum usage of : 1296.6666666666667 minutes\n",
      "\n",
      " DEBUG Total duration>1000 min in getTotalDuration for village 120, student id 6116000839\n",
      "number of sessions are: 35 over 5 days, with a maximum usage of : 683.3333333333334 minutes\n",
      "\n",
      " DEBUG Total duration>1000 min in getTotalDuration for village 120, student id 5A28002453\n",
      "number of sessions are: 41 over 2 days, with a maximum usage of : 650.0 minutes\n",
      "\n",
      " DEBUG Avg Session Duration\n",
      "avg session duration >360 minutes ie:  691.6666666666666 for village:  120 student id:  5A28002453  and total use days are:  2  and the total duration in minutes is  1383.3333333333333\n",
      "\n",
      " DEBUG session duration>50000 in getTotalDuration for village 120, student id 5A29001375, session id 5A29001375_20180623_185909\n",
      "start and end times are:  2018-06-23 19:06:40 2018-06-24 17:53:20\n",
      "\n",
      " DEBUG session duration>50000 in getTotalDuration for village 120, student id 5A29001375, session id 5A29001375_20180622_173320\n",
      "start and end times are:  2018-06-22 17:33:20 2018-06-23 13:00:00\n",
      "\n",
      " DEBUG Total duration>1000 min in getTotalDuration for village 120, student id 5A29001375\n",
      "number of sessions are: 44 over 7 days, with a maximum usage of : 1366.6666666666667 minutes\n",
      "\n",
      " DEBUG Avg Session Duration\n",
      "avg session duration >360 minutes ie:  697.6190476190476 for village:  120 student id:  5A29001375  and total use days are:  7  and the total duration in minutes is  4883.333333333333\n",
      "\n",
      " DEBUG session duration>50000 in getTotalDuration for village 120, student id 5B20002370, session id 5B20002370_20180619_195609\n",
      "start and end times are:  2018-06-19 19:50:00 2018-06-20 16:06:40\n",
      "\n",
      " DEBUG session duration>50000 in getTotalDuration for village 120, student id 5B20002370, session id 5B20002370_20180621_192437\n",
      "start and end times are:  2018-06-21 19:20:00 2018-06-22 18:40:00\n",
      "\n",
      " DEBUG Total duration>1000 min in getTotalDuration for village 120, student id 5B20002370\n",
      "number of sessions are: 17 over 5 days, with a maximum usage of : 1400.0 minutes\n",
      "\n",
      " DEBUG Avg Session Duration\n",
      "avg session duration >360 minutes ie:  585.3333333333334 for village:  120 student id:  5B20002370  and total use days are:  5  and the total duration in minutes is  2926.6666666666665\n",
      "\n",
      " DEBUG session duration>50000 in getTotalDuration for village 120, student id 6115001195, session id 6115001195_20170619_183834\n",
      "start and end times are:  2017-06-19 18:43:20 2017-06-20 10:00:00\n",
      "\n",
      " DEBUG session duration>50000 in getTotalDuration for village 120, student id 6115001195, session id 6115001195_20000103_032206\n",
      "start and end times are:  2000-01-03 02:22:18 2000-01-03 21:59:37\n",
      "\n",
      " DEBUG Total duration>1000 min in getTotalDuration for village 120, student id 6115001195\n",
      "number of sessions are: 46 over 6 days, with a maximum usage of : 1177.3166666666666 minutes\n",
      "\n",
      " DEBUG Avg Session Duration\n",
      "avg session duration >360 minutes ie:  5640.516666666666 for village:  120 student id:  6115001195  and total use days are:  1  and the total duration in minutes is  5640.516666666666\n",
      "\n",
      " DEBUG session duration>50000 in getTotalDuration for village 120, student id 6112000251, session id 6112000251_20180618_105533\n",
      "start and end times are:  2018-06-18 11:03:20 2018-06-19 10:06:40\n",
      "\n",
      " DEBUG Total duration>1000 min in getTotalDuration for village 120, student id 6112000251\n",
      "number of sessions are: 24 over 5 days, with a maximum usage of : 1383.3333333333333 minutes\n",
      "\n",
      " DEBUG Avg Session Duration\n",
      "avg session duration >360 minutes ie:  420.0 for village:  120 student id:  6112000251  and total use days are:  5  and the total duration in minutes is  2100.0\n",
      "\n",
      " DEBUG session duration>50000 in getTotalDuration for village 120, student id 5A27002127, session id 5A27002127_20180620_194348\n",
      "start and end times are:  2018-06-20 19:43:20 2018-06-21 13:46:40\n",
      "\n",
      " DEBUG session duration>50000 in getTotalDuration for village 120, student id 5A27002127, session id 5A27002127_20180619_194544\n",
      "start and end times are:  2018-06-19 19:50:00 2018-06-20 19:43:20\n",
      "\n",
      " DEBUG Total duration>1000 min in getTotalDuration for village 120, student id 5A27002127\n",
      "number of sessions are: 13 over 4 days, with a maximum usage of : 1433.3333333333333 minutes\n",
      "\n",
      " DEBUG Avg Session Duration\n",
      "avg session duration >360 minutes ie:  862.5 for village:  120 student id:  5A27002127  and total use days are:  4  and the total duration in minutes is  3450.0\n",
      "Village 121 has 8 student ids\n",
      "\n",
      " DEBUG session duration>50000 in getTotalDuration for village 121, student id 5B20001355, session id 5B20001355_20180619_194157\n",
      "start and end times are:  2018-06-19 19:50:00 2018-06-20 18:53:20\n",
      "\n",
      " DEBUG session duration>50000 in getTotalDuration for village 121, student id 5B20001355, session id 5B20001355_20180623_195116\n",
      "start and end times are:  2018-06-23 19:56:40 2018-06-25 19:43:20\n"
     ]
    },
    {
     "name": "stdout",
     "output_type": "stream",
     "text": [
      "\n",
      " DEBUG session duration>50000 in getTotalDuration for village 121, student id 5B20001355, session id 5B20001355_20180620_190513\n",
      "start and end times are:  2018-06-20 19:10:00 2018-06-22 14:46:40\n",
      "\n",
      " DEBUG Total duration>1000 min in getTotalDuration for village 121, student id 5B20001355\n",
      "number of sessions are: 28 over 10 days, with a maximum usage of : 1426.6666666666667 minutes\n",
      "\n",
      " DEBUG Avg Session Duration\n",
      "avg session duration >360 minutes ie:  476.3333333333333 for village:  121 student id:  5B20001355  and total use days are:  10  and the total duration in minutes is  4763.333333333333\n",
      "\n",
      " DEBUG Total duration>1000 min in getTotalDuration for village 121, student id 6118003109\n",
      "number of sessions are: 33 over 6 days, with a maximum usage of : 466.6666666666667 minutes\n",
      "\n",
      " DEBUG session duration>50000 in getTotalDuration for village 121, student id 5A27001307, session id 5A27001307_20180621_143236\n",
      "start and end times are:  2018-06-21 14:36:40 2018-06-23 14:23:20\n",
      "\n",
      " DEBUG Total duration>1000 min in getTotalDuration for village 121, student id 5A27001307\n",
      "number of sessions are: 37 over 6 days, with a maximum usage of : 1426.6666666666667 minutes\n",
      "\n",
      " DEBUG Avg Session Duration\n",
      "avg session duration >360 minutes ie:  465.9 for village:  121 student id:  5B20002310  and total use days are:  2  and the total duration in minutes is  931.8\n",
      "\n",
      " DEBUG session duration>50000 in getTotalDuration for village 121, student id 6118002839, session id 6118002839_20000102_213754\n",
      "start and end times are:  2000-01-02 20:38:20 2000-01-03 12:32:23\n",
      "\n",
      " DEBUG Total duration>1000 min in getTotalDuration for village 121, student id 6118002839\n",
      "number of sessions are: 110 over 5 days, with a maximum usage of : 954.05 minutes\n",
      "\n",
      " DEBUG Avg Session Duration\n",
      "avg session duration >360 minutes ie:  1646.0416666666667 for village:  121 student id:  6118002839  and total use days are:  2  and the total duration in minutes is  3292.0833333333335\n",
      "\n",
      " DEBUG session duration>50000 in getTotalDuration for village 121, student id 6111001754, session id 6111001754_20180618_174637\n",
      "start and end times are:  2018-06-18 18:16:40 2018-06-19 14:00:00\n",
      "\n",
      " DEBUG session duration>50000 in getTotalDuration for village 121, student id 6111001754, session id 6111001754_20180619_185400\n",
      "start and end times are:  2018-06-19 19:00:00 2018-06-20 11:06:40\n",
      "\n",
      " DEBUG Total duration>1000 min in getTotalDuration for village 121, student id 6111001754\n",
      "number of sessions are: 24 over 4 days, with a maximum usage of : 1183.3333333333333 minutes\n",
      "\n",
      " DEBUG Avg Session Duration\n",
      "avg session duration >360 minutes ie:  791.6666666666666 for village:  121 student id:  6111001754  and total use days are:  4  and the total duration in minutes is  3166.6666666666665\n",
      "Village 122 has 7 student ids\n",
      "Village 123 has 9 student ids\n",
      "Village 125 has 13 student ids\n",
      "\n",
      " DEBUG Total duration>1000 min in getTotalDuration for village 125, student id 5B20001221\n",
      "number of sessions are: 29 over 5 days, with a maximum usage of : 516.6666666666666 minutes\n",
      "\n",
      " DEBUG session duration>50000 in getTotalDuration for village 125, student id 6111001157, session id 6111001157_20180620_201434\n",
      "start and end times are:  2018-06-20 20:16:40 2018-06-21 18:46:40\n",
      "\n",
      " DEBUG Total duration>1000 min in getTotalDuration for village 125, student id 6111001157\n",
      "number of sessions are: 47 over 4 days, with a maximum usage of : 1350.0 minutes\n",
      "\n",
      " DEBUG Avg Session Duration\n",
      "avg session duration >360 minutes ie:  654.1666666666666 for village:  125 student id:  6111001157  and total use days are:  4  and the total duration in minutes is  2616.6666666666665\n",
      "\n",
      " DEBUG session duration>50000 in getTotalDuration for village 125, student id 6116001510, session id 6116001510_20000103_134805\n",
      "start and end times are:  2000-01-03 12:48:20 2000-01-04 04:13:20\n",
      "\n",
      " DEBUG Total duration>1000 min in getTotalDuration for village 125, student id 6116001510\n",
      "number of sessions are: 40 over 3 days, with a maximum usage of : 925.0 minutes\n",
      "\n",
      " DEBUG Avg Session Duration\n",
      "avg session duration >360 minutes ie:  1375.4 for village:  125 student id:  6116001510  and total use days are:  1  and the total duration in minutes is  1375.4\n",
      "\n",
      " DEBUG Avg Session Duration\n",
      "avg session duration >360 minutes ie:  621.2666666666667 for village:  125 student id:  5A28000372  and total use days are:  1  and the total duration in minutes is  621.2666666666667\n",
      "\n",
      " DEBUG Total duration>1000 min in getTotalDuration for village 125, student id 6118002986\n",
      "number of sessions are: 48 over 3 days, with a maximum usage of : 61.983333333333334 minutes\n",
      "\n",
      " DEBUG Avg Session Duration\n",
      "avg session duration >360 minutes ie:  1088.6333333333334 for village:  125 student id:  6118002986  and total use days are:  1  and the total duration in minutes is  1088.6333333333334\n",
      "\n",
      " DEBUG Total duration>1000 min in getTotalDuration for village 125, student id 5B12004661\n",
      "number of sessions are: 61 over 5 days, with a maximum usage of : 516.6666666666666 minutes\n",
      "\n",
      " DEBUG Avg Session Duration\n",
      "avg session duration >360 minutes ie:  494.1166666666667 for village:  125 student id:  6116000786  and total use days are:  1  and the total duration in minutes is  494.1166666666667\n",
      "\n",
      " DEBUG Avg Session Duration\n",
      "avg session duration >360 minutes ie:  573.25 for village:  125 student id:  6118003513  and total use days are:  1  and the total duration in minutes is  573.25\n",
      "\n",
      " DEBUG Total duration>1000 min in getTotalDuration for village 125, student id 6118001757\n",
      "number of sessions are: 42 over 4 days, with a maximum usage of : 750.0 minutes\n",
      "\n",
      " DEBUG Avg Session Duration\n",
      "avg session duration >360 minutes ie:  629.1666666666666 for village:  125 student id:  6118001757  and total use days are:  4  and the total duration in minutes is  2516.6666666666665\n",
      "Village 126 has 10 student ids\n",
      "\n",
      " DEBUG Total duration>1000 min in getTotalDuration for village 126, student id 6111000929\n",
      "number of sessions are: 84 over 10 days, with a maximum usage of : 50.0 minutes\n",
      "\n",
      " DEBUG Total duration>1000 min in getTotalDuration for village 126, student id 5B04000073\n",
      "number of sessions are: 29 over 5 days, with a maximum usage of : 683.3333333333334 minutes\n"
     ]
    }
   ],
   "source": [
    "dic_village_freqdur_field = {village:getDurationFrequencyInVillage(df_data_field,village) for village in list_villages_field}"
   ]
  },
  {
   "cell_type": "markdown",
   "metadata": {
    "hidden": true
   },
   "source": [
    "Village 119 has 16715 "
   ]
  },
  {
   "cell_type": "code",
   "execution_count": 30,
   "metadata": {
    "hidden": true
   },
   "outputs": [
    {
     "data": {
      "image/png": "[encoded data removed]",
      "text/plain": [
       "<Figure size 720x720 with 1 Axes>"
      ]
     },
     "metadata": {},
     "output_type": "display_data"
    }
   ],
   "source": [
    "colormap = plt.cm.gist_ncar #nipy_spectral, Set1,Paired   \n",
    "main_figure = plt.figure(figsize=(10,10))\n",
    "ax1 = main_figure.add_subplot(111)\n",
    "\n",
    "for village in list_villages_beta:\n",
    "    dur, freq = dic_village_freqdur_beta_sites[village]\n",
    "    dur = [d/60 for d in dur]\n",
    "    ax1.scatter(dur,freq, s=10,marker='s', label=village)\n",
    "\n",
    "for village in list_villages_field:\n",
    "    dur, freq = dic_village_freqdur_field[village]\n",
    "    dur = [d/60 for d in dur]\n",
    "    ax1.scatter(dur,freq, s=10,c='r',label=village)\n",
    "ax1.legend(loc=1)\n",
    "#setting colors\n",
    "colors = [colormap(i) for i in np.linspace(0, 1,len(ax1.lines))]\n",
    "for i,j in enumerate(ax1.lines):\n",
    "    j.set_color(colors[i])\n",
    "plt.xlabel('Avg Session Duration(minutes of use /no of days used)')\n",
    "plt.ylabel('Avg Session Frequency(no of days used/total days)')\n",
    "plt.xlim([0,1000])\n",
    "plt.show()"
   ]
  },
  {
   "cell_type": "code",
   "execution_count": 31,
   "metadata": {
    "hidden": true
   },
   "outputs": [
    {
     "data": {
      "image/png": "[encoded data removed]",
      "text/plain": [
       "<Figure size 720x720 with 1 Axes>"
      ]
     },
     "metadata": {},
     "output_type": "display_data"
    }
   ],
   "source": [
    "colormap = plt.cm.gist_ncar #nipy_spectral, Set1,Paired   \n",
    "main_figure = plt.figure(figsize=(10,10))\n",
    "ax1 = main_figure.add_subplot(111)\n",
    "\n",
    "for village in list_villages_beta:\n",
    "    dur, freq = dic_village_freqdur_beta_sites[village]\n",
    "    dur = [d/60 for d in dur]\n",
    "    ax1.scatter(dur,freq, s=10, label=village)\n",
    "\n",
    "for village in list_villages_field:\n",
    "    dur, freq = dic_village_freqdur_field[village]\n",
    "    dur = [d/60 for d in dur]\n",
    "    ax1.scatter(dur,freq, s=10, c='r',label=village)\n",
    "ax1.legend(loc=1)\n",
    "#setting colors\n",
    "colors = [colormap(i) for i in np.linspace(0, 1,len(ax1.lines))]\n",
    "for i,j in enumerate(ax1.lines):\n",
    "    j.set_color(colors[i])\n",
    "plt.xlabel('Avg Session Duration(minutes of use /no of days used)')\n",
    "plt.ylabel('Avg Session Frequency(no of days used/total days)')\n",
    "plt.xlim([0,100])\n",
    "plt.show()"
   ]
  },
  {
   "cell_type": "code",
   "execution_count": 32,
   "metadata": {
    "hidden": true
   },
   "outputs": [],
   "source": [
    "list_villages = []\n",
    "for vill in list(dic_village_freqdur_beta_sites.keys()):\n",
    "    list_villages.append(vill)\n",
    "for vill in list(dic_village_freqdur_field.keys()):\n",
    "    list_villages.append(vill)"
   ]
  },
  {
   "cell_type": "markdown",
   "metadata": {},
   "source": [
    "## Calculating Statistics"
   ]
  },
  {
   "cell_type": "markdown",
   "metadata": {},
   "source": [
    "### Defining functions to calculate statistics per village"
   ]
  },
  {
   "cell_type": "code",
   "execution_count": 144,
   "metadata": {},
   "outputs": [],
   "source": [
    "def getUsageMetrics(village):\n",
    "    \n",
    "    \"\"\"\n",
    "    Takes in the dataframe for the data and village name, calculates metrics (mean, std) for the village\n",
    "    \"\"\"\n",
    "    \n",
    "    if(village == \"Mugeta\" or village == \"Bagamoyo\"):\n",
    "        list_avg_session_duration, list_avg_session_frequency = dic_village_freqdur_beta_sites[village]\n",
    "    else:\n",
    "        list_avg_session_duration, list_avg_session_frequency = dic_village_freqdur_field[village]\n",
    "    array_avg_session_duration_minutes = np.array(list_avg_session_duration)/60\n",
    "    array_avg_session_frequency = np.array(list_avg_session_frequency)\n",
    "    number_of_kids = getNumberOfKids(village)\n",
    "    mean_session_duration = np.mean(array_avg_session_duration_minutes)\n",
    "    median_session_duration = np.median(array_avg_session_duration_minutes)\n",
    "    max_session_duration = np.max(array_avg_session_duration_minutes)\n",
    "    mean_session_frequency = np.mean(array_avg_session_frequency)\n",
    "    median_session_frequency = np.median(array_avg_session_frequency)\n",
    "    max_session_frequency = np.max(array_avg_session_frequency)\n",
    "    std_session_duration = np.std(array_avg_session_duration_minutes)\n",
    "    std_session_frequency = np.std(array_avg_session_frequency)\n",
    "    return(number_of_kids, mean_session_duration, median_session_duration, max_session_duration, mean_session_frequency, median_session_frequency, max_session_frequency, std_session_duration, std_session_frequency)"
   ]
  },
  {
   "cell_type": "raw",
   "metadata": {},
   "source": [
    "#sample\n",
    "getUsageMetrics(\"Mugeta\")"
   ]
  },
  {
   "cell_type": "code",
   "execution_count": 133,
   "metadata": {},
   "outputs": [],
   "source": [
    "def getSessionMetrics(village):\n",
    "    \n",
    "    if(village == \"Mugeta\" or village == \"Bagamoyo\"):\n",
    "        array_number_of_sessions = np.array(getNumberOfSessionsInVillage(df_data_beta_sites, village))\n",
    "    else:\n",
    "        array_number_of_sessions = np.array(getNumberOfSessionsInVillage(df_data_field, village))\n",
    "    avg = np.mean(array_number_of_sessions)\n",
    "    median = np.median(array_number_of_sessions)    \n",
    "    minimum = np.min(array_number_of_sessions)    \n",
    "    maximum = np.max(array_number_of_sessions)\n",
    "    return (avg, median, minimum, maximum)"
   ]
  },
  {
   "cell_type": "raw",
   "metadata": {},
   "source": [
    "Use the unix epochs and crosscheck\n",
    "Crosscheck using \n",
    "For dates before 2018\n",
    "Session freq can still be computed\n",
    "Do another analysis, ignores dates and adds the total number of minutes.(for session)\n",
    "See how many days before 2018[DONE]\n",
    "Get last data from anybody using the tablet in the village\n",
    "\n",
    "\n",
    "Include additional data in the table\n",
    "Number of sessions, min max\n",
    "The number of students\n",
    "Use median frequency\n",
    "The number of days used for each village - min max and median\n",
    "Scatter plot  - The number of sessions vs number of distinct days\n",
    "Session - number of sessions per day used etc.\n",
    "Try to look at usage per tablet.\n",
    "Try to not look at outliers to compute outliers \n"
   ]
  },
  {
   "cell_type": "markdown",
   "metadata": {},
   "source": [
    "## Analysing Village metrics"
   ]
  },
  {
   "cell_type": "markdown",
   "metadata": {},
   "source": [
    "##### Mean session duration, mean session frequency, variance in session duration, variation in session frequency"
   ]
  },
  {
   "cell_type": "code",
   "execution_count": 141,
   "metadata": {},
   "outputs": [],
   "source": [
    "dic_metrics = { village:getUsageMetrics(village) for village in list_villages}"
   ]
  },
  {
   "cell_type": "code",
   "execution_count": 142,
   "metadata": {},
   "outputs": [
    {
     "data": {
      "text/html": [
       "<div>\n",
       "<style scoped>\n",
       "    .dataframe tbody tr th:only-of-type {\n",
       "        vertical-align: middle;\n",
       "    }\n",
       "\n",
       "    .dataframe tbody tr th {\n",
       "        vertical-align: top;\n",
       "    }\n",
       "\n",
       "    .dataframe thead th {\n",
       "        text-align: right;\n",
       "    }\n",
       "</style>\n",
       "<table border=\"1\" class=\"dataframe\">\n",
       "  <thead>\n",
       "    <tr style=\"text-align: right;\">\n",
       "      <th></th>\n",
       "      <th>Bagamoyo</th>\n",
       "      <th>Mugeta</th>\n",
       "      <th>128</th>\n",
       "      <th>129</th>\n",
       "      <th>130</th>\n",
       "      <th>133</th>\n",
       "      <th>134</th>\n",
       "      <th>140</th>\n",
       "      <th>114</th>\n",
       "      <th>117</th>\n",
       "      <th>118</th>\n",
       "      <th>119</th>\n",
       "      <th>120</th>\n",
       "      <th>121</th>\n",
       "      <th>122</th>\n",
       "      <th>123</th>\n",
       "      <th>125</th>\n",
       "      <th>126</th>\n",
       "    </tr>\n",
       "  </thead>\n",
       "  <tbody>\n",
       "    <tr>\n",
       "      <th>number_of_kids</th>\n",
       "      <td>109.000000</td>\n",
       "      <td>121.000000</td>\n",
       "      <td>15.000000</td>\n",
       "      <td>11.000000</td>\n",
       "      <td>1.000000</td>\n",
       "      <td>9.000000</td>\n",
       "      <td>16.000000</td>\n",
       "      <td>11.000000</td>\n",
       "      <td>2.00</td>\n",
       "      <td>13.000000</td>\n",
       "      <td>5.000000</td>\n",
       "      <td>16715.0</td>\n",
       "      <td>16.000000</td>\n",
       "      <td>8.000000</td>\n",
       "      <td>7.000000</td>\n",
       "      <td>9.000000</td>\n",
       "      <td>13.000000</td>\n",
       "      <td>10.000000</td>\n",
       "    </tr>\n",
       "    <tr>\n",
       "      <th>mean_dur</th>\n",
       "      <td>41.386366</td>\n",
       "      <td>23.526583</td>\n",
       "      <td>86.722222</td>\n",
       "      <td>276.010877</td>\n",
       "      <td>34.300000</td>\n",
       "      <td>20.370370</td>\n",
       "      <td>513.200732</td>\n",
       "      <td>117.063492</td>\n",
       "      <td>27.20</td>\n",
       "      <td>345.402131</td>\n",
       "      <td>329.303333</td>\n",
       "      <td>0.0</td>\n",
       "      <td>638.614211</td>\n",
       "      <td>507.492708</td>\n",
       "      <td>13.095238</td>\n",
       "      <td>1.851852</td>\n",
       "      <td>508.034188</td>\n",
       "      <td>79.762659</td>\n",
       "    </tr>\n",
       "    <tr>\n",
       "      <th>median_dur</th>\n",
       "      <td>32.291667</td>\n",
       "      <td>22.683333</td>\n",
       "      <td>0.000000</td>\n",
       "      <td>233.333333</td>\n",
       "      <td>34.300000</td>\n",
       "      <td>16.666667</td>\n",
       "      <td>358.516667</td>\n",
       "      <td>116.666667</td>\n",
       "      <td>27.20</td>\n",
       "      <td>335.376667</td>\n",
       "      <td>258.333333</td>\n",
       "      <td>0.0</td>\n",
       "      <td>241.666667</td>\n",
       "      <td>381.005556</td>\n",
       "      <td>8.333333</td>\n",
       "      <td>0.000000</td>\n",
       "      <td>494.116667</td>\n",
       "      <td>71.789484</td>\n",
       "    </tr>\n",
       "    <tr>\n",
       "      <th>max_dur</th>\n",
       "      <td>721.216667</td>\n",
       "      <td>125.939103</td>\n",
       "      <td>509.166667</td>\n",
       "      <td>566.250000</td>\n",
       "      <td>34.300000</td>\n",
       "      <td>83.333333</td>\n",
       "      <td>2364.300000</td>\n",
       "      <td>291.666667</td>\n",
       "      <td>27.80</td>\n",
       "      <td>757.803333</td>\n",
       "      <td>857.983333</td>\n",
       "      <td>0.0</td>\n",
       "      <td>5640.516667</td>\n",
       "      <td>1646.041667</td>\n",
       "      <td>33.333333</td>\n",
       "      <td>16.666667</td>\n",
       "      <td>1375.400000</td>\n",
       "      <td>230.000000</td>\n",
       "    </tr>\n",
       "    <tr>\n",
       "      <th>mean_freq</th>\n",
       "      <td>0.047983</td>\n",
       "      <td>0.087130</td>\n",
       "      <td>0.202078</td>\n",
       "      <td>0.241550</td>\n",
       "      <td>0.041667</td>\n",
       "      <td>0.156296</td>\n",
       "      <td>0.342906</td>\n",
       "      <td>0.208920</td>\n",
       "      <td>0.04</td>\n",
       "      <td>0.321564</td>\n",
       "      <td>0.368000</td>\n",
       "      <td>1.0</td>\n",
       "      <td>0.468466</td>\n",
       "      <td>0.351253</td>\n",
       "      <td>0.135321</td>\n",
       "      <td>0.059494</td>\n",
       "      <td>0.661966</td>\n",
       "      <td>0.301290</td>\n",
       "    </tr>\n",
       "    <tr>\n",
       "      <th>median_freq</th>\n",
       "      <td>0.025641</td>\n",
       "      <td>0.035294</td>\n",
       "      <td>0.142857</td>\n",
       "      <td>0.200000</td>\n",
       "      <td>0.041667</td>\n",
       "      <td>0.200000</td>\n",
       "      <td>0.278846</td>\n",
       "      <td>0.166667</td>\n",
       "      <td>0.04</td>\n",
       "      <td>0.312500</td>\n",
       "      <td>0.200000</td>\n",
       "      <td>1.0</td>\n",
       "      <td>0.354167</td>\n",
       "      <td>0.375000</td>\n",
       "      <td>0.166667</td>\n",
       "      <td>0.038462</td>\n",
       "      <td>0.555556</td>\n",
       "      <td>0.281250</td>\n",
       "    </tr>\n",
       "    <tr>\n",
       "      <th>max_freq</th>\n",
       "      <td>1.000000</td>\n",
       "      <td>0.750000</td>\n",
       "      <td>1.000000</td>\n",
       "      <td>0.500000</td>\n",
       "      <td>0.041667</td>\n",
       "      <td>0.200000</td>\n",
       "      <td>1.000000</td>\n",
       "      <td>0.583333</td>\n",
       "      <td>0.04</td>\n",
       "      <td>0.588235</td>\n",
       "      <td>1.000000</td>\n",
       "      <td>1.0</td>\n",
       "      <td>1.000000</td>\n",
       "      <td>0.500000</td>\n",
       "      <td>0.200000</td>\n",
       "      <td>0.166667</td>\n",
       "      <td>1.000000</td>\n",
       "      <td>0.625000</td>\n",
       "    </tr>\n",
       "    <tr>\n",
       "      <th>var_dur</th>\n",
       "      <td>73.928604</td>\n",
       "      <td>16.769767</td>\n",
       "      <td>141.121981</td>\n",
       "      <td>141.574315</td>\n",
       "      <td>0.000000</td>\n",
       "      <td>24.879683</td>\n",
       "      <td>629.082576</td>\n",
       "      <td>94.062611</td>\n",
       "      <td>0.60</td>\n",
       "      <td>217.309893</td>\n",
       "      <td>283.135661</td>\n",
       "      <td>0.0</td>\n",
       "      <td>1318.483326</td>\n",
       "      <td>483.374654</td>\n",
       "      <td>13.984929</td>\n",
       "      <td>5.237828</td>\n",
       "      <td>369.395364</td>\n",
       "      <td>67.104571</td>\n",
       "    </tr>\n",
       "    <tr>\n",
       "      <th>var_freq</th>\n",
       "      <td>0.099392</td>\n",
       "      <td>0.131368</td>\n",
       "      <td>0.230588</td>\n",
       "      <td>0.132030</td>\n",
       "      <td>0.000000</td>\n",
       "      <td>0.054895</td>\n",
       "      <td>0.281306</td>\n",
       "      <td>0.148387</td>\n",
       "      <td>0.00</td>\n",
       "      <td>0.139247</td>\n",
       "      <td>0.333131</td>\n",
       "      <td>0.0</td>\n",
       "      <td>0.330434</td>\n",
       "      <td>0.123847</td>\n",
       "      <td>0.058671</td>\n",
       "      <td>0.039014</td>\n",
       "      <td>0.278010</td>\n",
       "      <td>0.184910</td>\n",
       "    </tr>\n",
       "  </tbody>\n",
       "</table>\n",
       "</div>"
      ],
      "text/plain": [
       "                  Bagamoyo      Mugeta         128         129        130  \\\n",
       "number_of_kids  109.000000  121.000000   15.000000   11.000000   1.000000   \n",
       "mean_dur         41.386366   23.526583   86.722222  276.010877  34.300000   \n",
       "median_dur       32.291667   22.683333    0.000000  233.333333  34.300000   \n",
       "max_dur         721.216667  125.939103  509.166667  566.250000  34.300000   \n",
       "mean_freq         0.047983    0.087130    0.202078    0.241550   0.041667   \n",
       "median_freq       0.025641    0.035294    0.142857    0.200000   0.041667   \n",
       "max_freq          1.000000    0.750000    1.000000    0.500000   0.041667   \n",
       "var_dur          73.928604   16.769767  141.121981  141.574315   0.000000   \n",
       "var_freq          0.099392    0.131368    0.230588    0.132030   0.000000   \n",
       "\n",
       "                      133          134         140    114         117  \\\n",
       "number_of_kids   9.000000    16.000000   11.000000   2.00   13.000000   \n",
       "mean_dur        20.370370   513.200732  117.063492  27.20  345.402131   \n",
       "median_dur      16.666667   358.516667  116.666667  27.20  335.376667   \n",
       "max_dur         83.333333  2364.300000  291.666667  27.80  757.803333   \n",
       "mean_freq        0.156296     0.342906    0.208920   0.04    0.321564   \n",
       "median_freq      0.200000     0.278846    0.166667   0.04    0.312500   \n",
       "max_freq         0.200000     1.000000    0.583333   0.04    0.588235   \n",
       "var_dur         24.879683   629.082576   94.062611   0.60  217.309893   \n",
       "var_freq         0.054895     0.281306    0.148387   0.00    0.139247   \n",
       "\n",
       "                       118      119          120          121        122  \\\n",
       "number_of_kids    5.000000  16715.0    16.000000     8.000000   7.000000   \n",
       "mean_dur        329.303333      0.0   638.614211   507.492708  13.095238   \n",
       "median_dur      258.333333      0.0   241.666667   381.005556   8.333333   \n",
       "max_dur         857.983333      0.0  5640.516667  1646.041667  33.333333   \n",
       "mean_freq         0.368000      1.0     0.468466     0.351253   0.135321   \n",
       "median_freq       0.200000      1.0     0.354167     0.375000   0.166667   \n",
       "max_freq          1.000000      1.0     1.000000     0.500000   0.200000   \n",
       "var_dur         283.135661      0.0  1318.483326   483.374654  13.984929   \n",
       "var_freq          0.333131      0.0     0.330434     0.123847   0.058671   \n",
       "\n",
       "                      123          125         126  \n",
       "number_of_kids   9.000000    13.000000   10.000000  \n",
       "mean_dur         1.851852   508.034188   79.762659  \n",
       "median_dur       0.000000   494.116667   71.789484  \n",
       "max_dur         16.666667  1375.400000  230.000000  \n",
       "mean_freq        0.059494     0.661966    0.301290  \n",
       "median_freq      0.038462     0.555556    0.281250  \n",
       "max_freq         0.166667     1.000000    0.625000  \n",
       "var_dur          5.237828   369.395364   67.104571  \n",
       "var_freq         0.039014     0.278010    0.184910  "
      ]
     },
     "execution_count": 142,
     "metadata": {},
     "output_type": "execute_result"
    }
   ],
   "source": [
    "df_metrics = pd.DataFrame.from_dict(dic_metrics)\n",
    "df_metrics.index = ['number_of_kids','mean_dur','median_dur','max_dur','mean_freq','median_freq','max_freq','var_dur','var_freq']\n",
    "df_metrics"
   ]
  },
  {
   "cell_type": "markdown",
   "metadata": {},
   "source": [
    "##### Number of sessions, Min Max"
   ]
  },
  {
   "cell_type": "code",
   "execution_count": 136,
   "metadata": {},
   "outputs": [],
   "source": [
    "dic_session_metrics = { village:getSessionMetrics(village) for village in list_villages}"
   ]
  },
  {
   "cell_type": "code",
   "execution_count": 138,
   "metadata": {},
   "outputs": [
    {
     "data": {
      "text/html": [
       "<div>\n",
       "<style scoped>\n",
       "    .dataframe tbody tr th:only-of-type {\n",
       "        vertical-align: middle;\n",
       "    }\n",
       "\n",
       "    .dataframe tbody tr th {\n",
       "        vertical-align: top;\n",
       "    }\n",
       "\n",
       "    .dataframe thead th {\n",
       "        text-align: right;\n",
       "    }\n",
       "</style>\n",
       "<table border=\"1\" class=\"dataframe\">\n",
       "  <thead>\n",
       "    <tr style=\"text-align: right;\">\n",
       "      <th></th>\n",
       "      <th>Bagamoyo</th>\n",
       "      <th>Mugeta</th>\n",
       "      <th>128</th>\n",
       "      <th>129</th>\n",
       "      <th>130</th>\n",
       "      <th>133</th>\n",
       "      <th>134</th>\n",
       "      <th>140</th>\n",
       "      <th>114</th>\n",
       "      <th>117</th>\n",
       "      <th>118</th>\n",
       "      <th>119</th>\n",
       "      <th>120</th>\n",
       "      <th>121</th>\n",
       "      <th>122</th>\n",
       "      <th>123</th>\n",
       "      <th>125</th>\n",
       "      <th>126</th>\n",
       "    </tr>\n",
       "  </thead>\n",
       "  <tbody>\n",
       "    <tr>\n",
       "      <th>no_sessions_avg</th>\n",
       "      <td>3.256881</td>\n",
       "      <td>8.438017</td>\n",
       "      <td>9.066667</td>\n",
       "      <td>41.636364</td>\n",
       "      <td>2.0</td>\n",
       "      <td>4.444444</td>\n",
       "      <td>33.125</td>\n",
       "      <td>23.636364</td>\n",
       "      <td>1.0</td>\n",
       "      <td>41.307692</td>\n",
       "      <td>14.8</td>\n",
       "      <td>0.0</td>\n",
       "      <td>19.5</td>\n",
       "      <td>39.75</td>\n",
       "      <td>2.428571</td>\n",
       "      <td>1.0</td>\n",
       "      <td>38.769231</td>\n",
       "      <td>26.3</td>\n",
       "    </tr>\n",
       "    <tr>\n",
       "      <th>median</th>\n",
       "      <td>3.000000</td>\n",
       "      <td>3.000000</td>\n",
       "      <td>1.000000</td>\n",
       "      <td>38.000000</td>\n",
       "      <td>2.0</td>\n",
       "      <td>4.000000</td>\n",
       "      <td>36.000</td>\n",
       "      <td>14.000000</td>\n",
       "      <td>1.0</td>\n",
       "      <td>34.000000</td>\n",
       "      <td>11.0</td>\n",
       "      <td>0.0</td>\n",
       "      <td>15.5</td>\n",
       "      <td>30.50</td>\n",
       "      <td>2.000000</td>\n",
       "      <td>1.0</td>\n",
       "      <td>40.000000</td>\n",
       "      <td>26.0</td>\n",
       "    </tr>\n",
       "    <tr>\n",
       "      <th>min</th>\n",
       "      <td>1.000000</td>\n",
       "      <td>1.000000</td>\n",
       "      <td>1.000000</td>\n",
       "      <td>15.000000</td>\n",
       "      <td>2.0</td>\n",
       "      <td>1.000000</td>\n",
       "      <td>1.000</td>\n",
       "      <td>1.000000</td>\n",
       "      <td>1.0</td>\n",
       "      <td>1.000000</td>\n",
       "      <td>2.0</td>\n",
       "      <td>0.0</td>\n",
       "      <td>1.0</td>\n",
       "      <td>14.00</td>\n",
       "      <td>1.000000</td>\n",
       "      <td>1.0</td>\n",
       "      <td>18.000000</td>\n",
       "      <td>1.0</td>\n",
       "    </tr>\n",
       "    <tr>\n",
       "      <th>max</th>\n",
       "      <td>10.000000</td>\n",
       "      <td>401.000000</td>\n",
       "      <td>33.000000</td>\n",
       "      <td>96.000000</td>\n",
       "      <td>2.0</td>\n",
       "      <td>9.000000</td>\n",
       "      <td>58.000</td>\n",
       "      <td>83.000000</td>\n",
       "      <td>1.0</td>\n",
       "      <td>80.000000</td>\n",
       "      <td>28.0</td>\n",
       "      <td>0.0</td>\n",
       "      <td>46.0</td>\n",
       "      <td>110.00</td>\n",
       "      <td>7.000000</td>\n",
       "      <td>1.0</td>\n",
       "      <td>61.000000</td>\n",
       "      <td>84.0</td>\n",
       "    </tr>\n",
       "  </tbody>\n",
       "</table>\n",
       "</div>"
      ],
      "text/plain": [
       "                  Bagamoyo      Mugeta        128        129  130       133  \\\n",
       "no_sessions_avg   3.256881    8.438017   9.066667  41.636364  2.0  4.444444   \n",
       "median            3.000000    3.000000   1.000000  38.000000  2.0  4.000000   \n",
       "min               1.000000    1.000000   1.000000  15.000000  2.0  1.000000   \n",
       "max              10.000000  401.000000  33.000000  96.000000  2.0  9.000000   \n",
       "\n",
       "                    134        140  114        117   118  119   120     121  \\\n",
       "no_sessions_avg  33.125  23.636364  1.0  41.307692  14.8  0.0  19.5   39.75   \n",
       "median           36.000  14.000000  1.0  34.000000  11.0  0.0  15.5   30.50   \n",
       "min               1.000   1.000000  1.0   1.000000   2.0  0.0   1.0   14.00   \n",
       "max              58.000  83.000000  1.0  80.000000  28.0  0.0  46.0  110.00   \n",
       "\n",
       "                      122  123        125   126  \n",
       "no_sessions_avg  2.428571  1.0  38.769231  26.3  \n",
       "median           2.000000  1.0  40.000000  26.0  \n",
       "min              1.000000  1.0  18.000000   1.0  \n",
       "max              7.000000  1.0  61.000000  84.0  "
      ]
     },
     "execution_count": 138,
     "metadata": {},
     "output_type": "execute_result"
    }
   ],
   "source": [
    "df_session_metrics = pd.DataFrame.from_dict(dic_session_metrics)\n",
    "df_session_metrics.index = ['no_sessions_avg', 'median', 'min','max']\n",
    "df_session_metrics"
   ]
  },
  {
   "cell_type": "code",
   "execution_count": null,
   "metadata": {},
   "outputs": [],
   "source": []
  },
  {
   "cell_type": "markdown",
   "metadata": {},
   "source": [
    "### Plotting the mean and variance for each village"
   ]
  },
  {
   "cell_type": "raw",
   "metadata": {
    "scrolled": false
   },
   "source": [
    "colormap = plt.cm.gist_ncar #nipy_spectral, Set1,Paired   \n",
    "main_figure = plt.figure(figsize=(10,10))\n",
    "ax1 = main_figure.add_subplot(111)\n",
    "list_mean_session_duration = []\n",
    "list_mean_session_frequency = []\n",
    "list_std_session_duration = []\n",
    "list_std_session_frequency = []\n",
    "ells = []\n",
    "#populating the lists above\n",
    "for vill in list_villages:\n",
    "    dur_vill = dic_metrics[vill][0]\n",
    "    freq_vill = dic_metrics[vill][1]\n",
    "    ax1.scatter(dur_vill/60,freq_vill, s=10, label=vill)\n",
    "    print(dic_metrics[vill][2],dic_metrics[vill][3])\n",
    "    ells.append(Ellipse(xy=[dur_vill/60,freq_vill],\n",
    "                width=dic_metrics[vill][2]*0.2/60, height=dic_metrics[vill][3]*0.2,\n",
    "                angle=0))\n",
    "for e in ells:\n",
    "    ax1.add_artist(e)\n",
    "#     e.set_clip_box(ax1.bbox)\n",
    "#     e.set_alpha(np.random.rand())\n",
    "    e.set_facecolor(np.random.rand(3))\n",
    "#     list_std_session_duration.append(dic_metrics[vill][2])\n",
    "#     list_std_session_frequency.append(dic_metrics[vill][3])\n",
    "\n",
    "# #converting in minutes:\n",
    "# list_mean_session_duration = [d/60 for d in list_mean_session_duration]\n",
    "# list_std_session_duration = [d/60 for d in list_std_session_duration]\n",
    "\n",
    "# ax1.scatter(list_mean_session_duration,list_mean_session_frequency, s=10, label)\n",
    "# for village in list_villages_beta:\n",
    "#     dur, freq = dic_village_freqdur_beta_sites[village]\n",
    "#     dur = [d/60 for d in dur]\n",
    "#     ax1.scatter(dur,freq, s=10, label=village)\n",
    "\n",
    "# for village in list_villages_field:\n",
    "#     dur, freq = dic_village_freqdur_field[village]\n",
    "#     dur = [d/60 for d in dur]\n",
    "#     ax1.scatter(dur,freq, s=10, c='r',label=village)\n",
    "ax1.legend(loc=1)\n",
    "# #setting colors\n",
    "# colors = [colormap(i) for i in np.linspace(0, 1,len(ax1.lines))]\n",
    "# for i,j in enumerate(ax1.lines):\n",
    "#     j.set_color(colors[i])\n",
    "plt.xlabel('Avg Session Duration(minutes of use /no of days used)')\n",
    "plt.ylabel('Avg Session Frequency(no of days used/total days)')\n",
    "plt.xlim([0,40])\n",
    "plt.show()"
   ]
  },
  {
   "cell_type": "code",
   "execution_count": null,
   "metadata": {},
   "outputs": [],
   "source": [
    "colormap = plt.cm.gist_ncar #nipy_spectral, Set1,Paired   \n",
    "main_figure = plt.figure(figsize=(10,10))\n",
    "ax1 = main_figure.add_subplot(111)\n",
    "ells = []\n",
    "#populating the lists above\n",
    "for vill in list_villages:\n",
    "    dur_vill = dic_metrics[vill][0]\n",
    "    freq_vill = dic_metrics[vill][1]\n",
    "    ax1.scatter(dur_vill/60,freq_vill, s=10, label=vill)\n",
    "    print(dic_metrics[vill][2],dic_metrics[vill][3])\n",
    "    ells.append(Ellipse(xy=[dur_vill/60,freq_vill],\n",
    "                width=dic_metrics[vill][2]*0.2/60, height=dic_metrics[vill][3]*0.2,\n",
    "                angle=0))\n",
    "for e in ells:\n",
    "    ax1.add_artist(e)\n",
    "#     e.set_clip_box(ax1.bbox)\n",
    "#     e.set_alpha(np.random.rand())\n",
    "    e.set_facecolor(np.random.rand(3))\n",
    "#     list_std_session_duration.append(dic_metrics[vill][2])\n",
    "#     list_std_session_frequency.append(dic_metrics[vill][3])\n",
    "\n",
    "# #converting in minutes:\n",
    "# list_mean_session_duration = [d/60 for d in list_mean_session_duration]\n",
    "# list_std_session_duration = [d/60 for d in list_std_session_duration]\n",
    "\n",
    "# ax1.scatter(list_mean_session_duration,list_mean_session_frequency, s=10, label)\n",
    "# for village in list_villages_beta:\n",
    "#     dur, freq = dic_village_freqdur_beta_sites[village]\n",
    "#     dur = [d/60 for d in dur]\n",
    "#     ax1.scatter(dur,freq, s=10, label=village)\n",
    "\n",
    "# for village in list_villages_field:\n",
    "#     dur, freq = dic_village_freqdur_field[village]\n",
    "#     dur = [d/60 for d in dur]\n",
    "#     ax1.scatter(dur,freq, s=10, c='r',label=village)\n",
    "ax1.legend(loc=1)\n",
    "# #setting colors\n",
    "# colors = [colormap(i) for i in np.linspace(0, 1,len(ax1.lines))]\n",
    "# for i,j in enumerate(ax1.lines):\n",
    "#     j.set_color(colors[i])\n",
    "plt.xlabel('Avg Session Duration(minutes of use /no of days used)')\n",
    "plt.ylabel('Avg Session Frequency(no of days used/total days)')\n",
    "plt.xlim([0,40])\n",
    "plt.show()"
   ]
  },
  {
   "cell_type": "markdown",
   "metadata": {},
   "source": [
    "Observations:\n",
    "\n",
    "*  Villages closest to Mugeta and Bagamoyo in terms of session duration and session frequency.\n"
   ]
  },
  {
   "cell_type": "code",
   "execution_count": 41,
   "metadata": {
    "scrolled": false
   },
   "outputs": [
    {
     "name": "stdout",
     "output_type": "stream",
     "text": [
      "village:  Bagamoyo\n",
      "distance from Mugeta in terms of standard deviation is:  0.24158150291269612  times\n",
      "village:  Mugeta\n",
      "distance from Mugeta in terms of standard deviation is:  0.0  times\n",
      "village:  128\n",
      "distance from Mugeta in terms of standard deviation is:  0.4478086189313364  times\n",
      "village:  129\n",
      "distance from Mugeta in terms of standard deviation is:  1.7834046708987343  times\n",
      "village:  130\n",
      "distance from Mugeta in terms of standard deviation is:  inf  times\n",
      "village:  133\n",
      "distance from Mugeta in terms of standard deviation is:  0.12685902552167522  times\n",
      "village:  134\n",
      "distance from Mugeta in terms of standard deviation is:  0.7783940737240062  times\n",
      "village:  140\n",
      "distance from Mugeta in terms of standard deviation is:  0.994411151138778  times\n",
      "village:  114\n",
      "distance from Mugeta in terms of standard deviation is:  6.122362139442043  times\n",
      "village:  117\n",
      "distance from Mugeta in terms of standard deviation is:  1.4811822127678085  times\n",
      "village:  118\n",
      "distance from Mugeta in terms of standard deviation is:  1.0799655161467443  times\n",
      "village:  119\n",
      "distance from Mugeta in terms of standard deviation is:  inf  times\n",
      "village:  120\n",
      "distance from Mugeta in terms of standard deviation is:  0.4665114957200986  times\n",
      "village:  121\n",
      "distance from Mugeta in terms of standard deviation is:  1.0012236306991373  times\n",
      "village:  122\n",
      "distance from Mugeta in terms of standard deviation is:  0.7458990195975101  times\n",
      "village:  123\n",
      "distance from Mugeta in terms of standard deviation is:  4.138114277160693  times\n",
      "village:  125\n",
      "distance from Mugeta in terms of standard deviation is:  1.3116234044036836  times\n",
      "village:  126\n",
      "distance from Mugeta in terms of standard deviation is:  0.8380364409923404  times\n"
     ]
    },
    {
     "name": "stderr",
     "output_type": "stream",
     "text": [
      "/home/amogh/anaconda3/lib/python3.6/site-packages/ipykernel_launcher.py:3: RuntimeWarning: divide by zero encountered in double_scalars\n",
      "  This is separate from the ipykernel package so we can avoid doing imports until\n"
     ]
    }
   ],
   "source": [
    "for v in list_villages:\n",
    "    print(\"village: \", v)\n",
    "    print(\"distance from Mugeta in terms of standard deviation is: \", abs(dic_metrics[\"Mugeta\"][0] - dic_metrics[v][0])/(dic_metrics[v][2]), \" times\")"
   ]
  },
  {
   "cell_type": "code",
   "execution_count": 42,
   "metadata": {
    "scrolled": false
   },
   "outputs": [
    {
     "name": "stdout",
     "output_type": "stream",
     "text": [
      "village:  Bagamoyo\n",
      "distance from Mugeta in terms of standard deviation is:  0.24158150291269612  times\n",
      "village:  Mugeta\n",
      "distance from Mugeta in terms of standard deviation is:  0.0  times\n",
      "village:  128\n",
      "distance from Mugeta in terms of standard deviation is:  0.4478086189313364  times\n",
      "village:  129\n",
      "distance from Mugeta in terms of standard deviation is:  1.7834046708987343  times\n",
      "village:  130\n",
      "distance from Mugeta in terms of standard deviation is:  inf  times\n",
      "village:  133\n",
      "distance from Mugeta in terms of standard deviation is:  0.12685902552167522  times\n",
      "village:  134\n",
      "distance from Mugeta in terms of standard deviation is:  0.7783940737240062  times\n",
      "village:  140\n",
      "distance from Mugeta in terms of standard deviation is:  0.994411151138778  times\n",
      "village:  114\n",
      "distance from Mugeta in terms of standard deviation is:  6.122362139442043  times\n",
      "village:  117\n",
      "distance from Mugeta in terms of standard deviation is:  1.4811822127678085  times\n",
      "village:  118\n",
      "distance from Mugeta in terms of standard deviation is:  1.0799655161467443  times\n",
      "village:  119\n",
      "distance from Mugeta in terms of standard deviation is:  inf  times\n",
      "village:  120\n",
      "distance from Mugeta in terms of standard deviation is:  0.4665114957200986  times\n",
      "village:  121\n",
      "distance from Mugeta in terms of standard deviation is:  1.0012236306991373  times\n",
      "village:  122\n",
      "distance from Mugeta in terms of standard deviation is:  0.7458990195975101  times\n",
      "village:  123\n",
      "distance from Mugeta in terms of standard deviation is:  4.138114277160693  times\n",
      "village:  125\n",
      "distance from Mugeta in terms of standard deviation is:  1.3116234044036836  times\n",
      "village:  126\n",
      "distance from Mugeta in terms of standard deviation is:  0.8380364409923404  times\n"
     ]
    },
    {
     "name": "stderr",
     "output_type": "stream",
     "text": [
      "/home/amogh/anaconda3/lib/python3.6/site-packages/ipykernel_launcher.py:3: RuntimeWarning: divide by zero encountered in double_scalars\n",
      "  This is separate from the ipykernel package so we can avoid doing imports until\n"
     ]
    }
   ],
   "source": [
    "for v in list_villages:\n",
    "    print(\"village: \", v)\n",
    "    print(\"distance from Mugeta in terms of standard deviation is: \", abs(dic_metrics[\"Mugeta\"][0] - dic_metrics[v][0])/(dic_metrics[v][2]), \" times\")"
   ]
  },
  {
   "cell_type": "code",
   "execution_count": 43,
   "metadata": {
    "scrolled": false
   },
   "outputs": [
    {
     "name": "stdout",
     "output_type": "stream",
     "text": [
      "village:  Bagamoyo\n",
      "distance from Mugeta in terms of standard deviation is:  1.0649988778955983  times\n",
      "village:  Mugeta\n",
      "distance from Mugeta in terms of standard deviation is:  0.0  times\n",
      "village:  128\n",
      "distance from Mugeta in terms of standard deviation is:  3.768426764725993  times\n",
      "village:  129\n",
      "distance from Mugeta in terms of standard deviation is:  15.055921235571954  times\n",
      "village:  130\n",
      "distance from Mugeta in terms of standard deviation is:  0.6424309391717342  times\n",
      "village:  133\n",
      "distance from Mugeta in terms of standard deviation is:  0.18820847724126352  times\n",
      "village:  134\n",
      "distance from Mugeta in terms of standard deviation is:  29.199817950290246  times\n",
      "village:  140\n",
      "distance from Mugeta in terms of standard deviation is:  5.577710668482723  times\n",
      "village:  114\n",
      "distance from Mugeta in terms of standard deviation is:  0.21904998696122763  times\n",
      "village:  117\n",
      "distance from Mugeta in terms of standard deviation is:  19.193799433270286  times\n",
      "village:  118\n",
      "distance from Mugeta in terms of standard deviation is:  18.23381011831825  times\n",
      "village:  119\n",
      "distance from Mugeta in terms of standard deviation is:  1.4029164778452217  times\n",
      "village:  120\n",
      "distance from Mugeta in terms of standard deviation is:  36.67836420939253  times\n",
      "village:  121\n",
      "distance from Mugeta in terms of standard deviation is:  28.85944212695136  times\n",
      "village:  122\n",
      "distance from Mugeta in terms of standard deviation is:  0.6220327631712483  times\n",
      "village:  123\n",
      "distance from Mugeta in terms of standard deviation is:  1.2924884777903163  times\n",
      "village:  125\n",
      "distance from Mugeta in terms of standard deviation is:  28.891731167986652  times\n",
      "village:  126\n",
      "distance from Mugeta in terms of standard deviation is:  3.3534201987767935  times\n"
     ]
    }
   ],
   "source": [
    "for v in list_villages:\n",
    "    print(\"village: \", v)\n",
    "    print(\"distance from Mugeta in terms of standard deviation is: \", abs(dic_metrics[\"Mugeta\"][0] - dic_metrics[v][0])/(dic_metrics[\"Mugeta\"][2]), \" times\")"
   ]
  },
  {
   "cell_type": "code",
   "execution_count": 44,
   "metadata": {
    "scrolled": false
   },
   "outputs": [
    {
     "name": "stdout",
     "output_type": "stream",
     "text": [
      "village:  Bagamoyo\n",
      "distance from Mugeta in terms of standard deviation is:  0.3938642337070573  times\n",
      "village:  Mugeta\n",
      "distance from Mugeta in terms of standard deviation is:  0.0  times\n",
      "village:  128\n",
      "distance from Mugeta in terms of standard deviation is:  0.49849762961139277  times\n",
      "village:  129\n",
      "distance from Mugeta in terms of standard deviation is:  1.169584428445018  times\n",
      "village:  130\n",
      "distance from Mugeta in terms of standard deviation is:  inf  times\n",
      "village:  133\n",
      "distance from Mugeta in terms of standard deviation is:  1.2599745200464423  times\n",
      "village:  134\n",
      "distance from Mugeta in terms of standard deviation is:  0.9092455594226051  times\n",
      "village:  140\n",
      "distance from Mugeta in terms of standard deviation is:  0.8207545207731416  times\n",
      "village:  114\n",
      "distance from Mugeta in terms of standard deviation is:  inf  times\n",
      "village:  117\n",
      "distance from Mugeta in terms of standard deviation is:  1.6835772021259572  times\n",
      "village:  118\n",
      "distance from Mugeta in terms of standard deviation is:  0.843122171081121  times\n",
      "village:  119\n",
      "distance from Mugeta in terms of standard deviation is:  inf  times\n",
      "village:  120\n",
      "distance from Mugeta in terms of standard deviation is:  1.154045908040923  times\n",
      "village:  121\n",
      "distance from Mugeta in terms of standard deviation is:  2.1326457421340925  times\n",
      "village:  122\n",
      "distance from Mugeta in terms of standard deviation is:  0.8213687741375004  times\n",
      "village:  123\n",
      "distance from Mugeta in terms of standard deviation is:  0.7083609402904424  times\n",
      "village:  125\n",
      "distance from Mugeta in terms of standard deviation is:  2.067681466217369  times\n",
      "village:  126\n",
      "distance from Mugeta in terms of standard deviation is:  1.158184820906876  times\n"
     ]
    },
    {
     "name": "stderr",
     "output_type": "stream",
     "text": [
      "/home/amogh/anaconda3/lib/python3.6/site-packages/ipykernel_launcher.py:3: RuntimeWarning: divide by zero encountered in double_scalars\n",
      "  This is separate from the ipykernel package so we can avoid doing imports until\n"
     ]
    }
   ],
   "source": [
    "for v in list_villages:\n",
    "    print(\"village: \", v)\n",
    "    print(\"distance from Mugeta in terms of standard deviation is: \", abs(dic_metrics[\"Mugeta\"][1] - dic_metrics[v][1])/(dic_metrics[v][3]), \" times\")"
   ]
  },
  {
   "cell_type": "code",
   "execution_count": 45,
   "metadata": {
    "scrolled": false
   },
   "outputs": [
    {
     "name": "stdout",
     "output_type": "stream",
     "text": [
      "village:  Bagamoyo\n",
      "distance from Mugeta in terms of standard deviation is:  0.3938642337070573  times\n",
      "village:  Mugeta\n",
      "distance from Mugeta in terms of standard deviation is:  0.0  times\n",
      "village:  128\n",
      "distance from Mugeta in terms of standard deviation is:  0.49849762961139277  times\n",
      "village:  129\n",
      "distance from Mugeta in terms of standard deviation is:  1.169584428445018  times\n",
      "village:  130\n",
      "distance from Mugeta in terms of standard deviation is:  inf  times\n",
      "village:  133\n",
      "distance from Mugeta in terms of standard deviation is:  1.2599745200464423  times\n",
      "village:  134\n",
      "distance from Mugeta in terms of standard deviation is:  0.9092455594226051  times\n",
      "village:  140\n",
      "distance from Mugeta in terms of standard deviation is:  0.8207545207731416  times\n",
      "village:  114\n",
      "distance from Mugeta in terms of standard deviation is:  inf  times\n",
      "village:  117\n",
      "distance from Mugeta in terms of standard deviation is:  1.6835772021259572  times\n",
      "village:  118\n",
      "distance from Mugeta in terms of standard deviation is:  0.843122171081121  times\n",
      "village:  119\n",
      "distance from Mugeta in terms of standard deviation is:  inf  times\n",
      "village:  120\n",
      "distance from Mugeta in terms of standard deviation is:  1.154045908040923  times\n",
      "village:  121\n",
      "distance from Mugeta in terms of standard deviation is:  2.1326457421340925  times\n",
      "village:  122\n",
      "distance from Mugeta in terms of standard deviation is:  0.8213687741375004  times\n",
      "village:  123\n",
      "distance from Mugeta in terms of standard deviation is:  0.7083609402904424  times\n",
      "village:  125\n",
      "distance from Mugeta in terms of standard deviation is:  2.067681466217369  times\n",
      "village:  126\n",
      "distance from Mugeta in terms of standard deviation is:  1.158184820906876  times\n"
     ]
    },
    {
     "name": "stderr",
     "output_type": "stream",
     "text": [
      "/home/amogh/anaconda3/lib/python3.6/site-packages/ipykernel_launcher.py:3: RuntimeWarning: divide by zero encountered in double_scalars\n",
      "  This is separate from the ipykernel package so we can avoid doing imports until\n"
     ]
    }
   ],
   "source": [
    "for v in list_villages:\n",
    "    print(\"village: \", v)\n",
    "    print(\"distance from Mugeta in terms of standard deviation is: \", abs(dic_metrics[\"Mugeta\"][1] - dic_metrics[v][1])/(dic_metrics[v][3]), \" times\")"
   ]
  },
  {
   "cell_type": "markdown",
   "metadata": {},
   "source": [
    "## Debug: "
   ]
  },
  {
   "cell_type": "markdown",
   "metadata": {
    "heading_collapsed": true
   },
   "source": [
    "### Debugging expressions from the data"
   ]
  },
  {
   "cell_type": "code",
   "execution_count": 10,
   "metadata": {
    "hidden": true
   },
   "outputs": [
    {
     "data": {
      "text/plain": [
       "['Mugeta', 'Bagamoyo']"
      ]
     },
     "execution_count": 10,
     "metadata": {},
     "output_type": "execute_result"
    }
   ],
   "source": [
    "list_villages = list(set(df_data_beta_sites['KC (Village)']))\n",
    "list_villages"
   ]
  },
  {
   "cell_type": "raw",
   "metadata": {
    "hidden": true
   },
   "source": [
    "a = list(df_data_field[df_data_field[\"Anon Student Id\"] == \"5A28000396\"][\"Time\"])[0]\n",
    "b = list(df_data_field[df_data_field[\"Anon Student Id\"] == \"5A28000396\"][\"Time\"])[5]\n",
    "a,b\n",
    "\n",
    "c = datetime.strptime(b, '%Y-%m-%d %H:%M:%S')-datetime.strptime(a, '%Y-%m-%d %H:%M:%S')\n",
    "\n",
    "c.seconds"
   ]
  },
  {
   "cell_type": "code",
   "execution_count": null,
   "metadata": {
    "hidden": true
   },
   "outputs": [],
   "source": []
  },
  {
   "cell_type": "raw",
   "metadata": {
    "hidden": true
   },
   "source": [
    "(set(df_data_beta_sites[df_data_beta_sites['KC (Village)'] == 'Bagamoyo'] ['Anon Student Id']))"
   ]
  },
  {
   "cell_type": "raw",
   "metadata": {
    "hidden": true
   },
   "source": [
    "a = df_data_beta_sites[(df_data_beta_sites['KC (Village)'] == 'Bagamoyo') & (df_data_beta_sites['Anon Student Id'] == '20180421_081922-0-52000266fecfa4e5')]['Time']\n",
    "a\n",
    "\n",
    "a = df_data_beta_sites[(df_data_beta_sites['KC (Village)'] == 'Bagamoyo') & (df_data_beta_sites['Anon Student Id'] == '20180421_081922-0-52000266fecfa4e5')]\n",
    "a\n",
    "\n",
    "a = [dt[0] for dt in list(a[a['Session Id'] == '52000266fecfa4e5_20180503_095852']['Time'].apply(getDateAndTime))]\n",
    "a"
   ]
  },
  {
   "cell_type": "code",
   "execution_count": 97,
   "metadata": {
    "hidden": true,
    "scrolled": true
   },
   "outputs": [
    {
     "name": "stdout",
     "output_type": "stream",
     "text": [
      "Village Bagamoyo has 109 student ids\n"
     ]
    }
   ],
   "source": [
    "x,y = getDurationFrequencyInVillage(df_data_beta_sites,\"Bagamoyo\")"
   ]
  },
  {
   "cell_type": "code",
   "execution_count": 105,
   "metadata": {
    "hidden": true
   },
   "outputs": [],
   "source": [
    "l = [a/60 for a in x]"
   ]
  },
  {
   "cell_type": "markdown",
   "metadata": {
    "heading_collapsed": true
   },
   "source": [
    "### Visualisations"
   ]
  },
  {
   "cell_type": "code",
   "execution_count": null,
   "metadata": {
    "hidden": true
   },
   "outputs": [],
   "source": []
  },
  {
   "cell_type": "code",
   "execution_count": 106,
   "metadata": {
    "hidden": true,
    "scrolled": true
   },
   "outputs": [
    {
     "data": {
      "image/png": "[encoded data removed]",
      "text/plain": [
       "<Figure size 432x288 with 1 Axes>"
      ]
     },
     "metadata": {},
     "output_type": "display_data"
    }
   ],
   "source": [
    "colormap = plt.cm.gist_ncar\n",
    "main_figure = plt.figure()\n",
    "ax1 = main_figure.add_subplot(111)\n",
    "ax1.scatter(l,y, s=10, c='r', label='first')\n",
    "plt.show()"
   ]
  },
  {
   "cell_type": "code",
   "execution_count": 86,
   "metadata": {
    "hidden": true,
    "scrolled": true
   },
   "outputs": [
    {
     "data": {
      "text/plain": [
       "<matplotlib.collections.PathCollection at 0x7f54489058d0>"
      ]
     },
     "execution_count": 86,
     "metadata": {},
     "output_type": "execute_result"
    },
    {
     "data": {
      "image/png": "[encoded data removed]",
      "text/plain": [
       "<Figure size 432x288 with 1 Axes>"
      ]
     },
     "metadata": {},
     "output_type": "display_data"
    }
   ],
   "source": [
    "plt.scatter(x,y)"
   ]
  },
  {
   "cell_type": "code",
   "execution_count": 59,
   "metadata": {
    "hidden": true
   },
   "outputs": [
    {
     "data": {
      "image/png": "[encoded data removed]",
      "text/plain": [
       "<Figure size 432x288 with 1 Axes>"
      ]
     },
     "metadata": {},
     "output_type": "display_data"
    }
   ],
   "source": [
    "NUM = 250\n",
    "\n",
    "ells = [Ellipse(xy=np.random.rand(2) * 10,\n",
    "                width=np.random.rand(), height=np.random.rand(),\n",
    "                angle=0)\n",
    "        for i in range(NUM)]\n",
    "\n",
    "fig, ax = plt.subplots()\n",
    "\n",
    "for e in ells:\n",
    "    ax.add_artist(e)\n",
    "    e.set_clip_box(ax.bbox)\n",
    "    e.set_alpha(np.random.rand())\n",
    "    e.set_facecolor(np.random.rand(3))\n",
    "\n",
    "ax.set_xlim(0, 10)\n",
    "ax.set_ylim(0, 10)\n",
    "\n",
    "plt.show()"
   ]
  },
  {
   "cell_type": "code",
   "execution_count": 52,
   "metadata": {
    "hidden": true
   },
   "outputs": [
    {
     "data": {
      "image/png": "[encoded data removed]",
      "text/plain": [
       "<Figure size 432x288 with 1 Axes>"
      ]
     },
     "metadata": {},
     "output_type": "display_data"
    }
   ],
   "source": [
    "x = [5,7,11,15,16,17,18]\n",
    "y = [8, 5, 8, 9, 17, 18, 25]\n",
    "cov = np.cov(x, y)\n",
    "lambda_, v = np.linalg.eig(cov)\n",
    "lambda_ = np.sqrt(lambda_)\n",
    "ax = plt.subplot(111, aspect='equal')\n",
    "for j in range(1, 4):\n",
    "    ell = Ellipse(xy=(np.mean(x), np.mean(y)),\n",
    "                  width=lambda_[0]*j*2, height=lambda_[1]*j*2,\n",
    "                  angle=np.rad2deg(np.arccos(v[0, 0])))\n",
    "    ell.set_facecolor('none')\n",
    "    ax.add_artist(ell)\n",
    "plt.scatter(x, y)\n",
    "plt.show()"
   ]
  },
  {
   "cell_type": "markdown",
   "metadata": {},
   "source": [
    "## To read and explore:"
   ]
  },
  {
   "cell_type": "markdown",
   "metadata": {},
   "source": [
    "https://onlinelibrary.wiley.com/doi/pdf/10.1111/tops.12208"
   ]
  },
  {
   "cell_type": "markdown",
   "metadata": {},
   "source": [
    "#### Trying out linear modeling"
   ]
  },
  {
   "cell_type": "code",
   "execution_count": null,
   "metadata": {},
   "outputs": [],
   "source": []
  }
 ],
 "metadata": {
  "kernelspec": {
   "display_name": "Python 3",
   "language": "python",
   "name": "python3"
  },
  "language_info": {
   "codemirror_mode": {
    "name": "ipython",
    "version": 3
   },
   "file_extension": ".py",
   "mimetype": "text/x-python",
   "name": "python",
   "nbconvert_exporter": "python",
   "pygments_lexer": "ipython3",
   "version": "3.6.5"
  }
 },
 "nbformat": 4,
 "nbformat_minor": 2
}
