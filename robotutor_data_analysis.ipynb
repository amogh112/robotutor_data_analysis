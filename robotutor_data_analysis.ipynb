{
 "cells": [
  {
   "cell_type": "markdown",
   "metadata": {},
   "source": [
    "# RoboTutor Data Analysis"
   ]
  },
  {
   "cell_type": "markdown",
   "metadata": {},
   "source": [
    "## Importing libraries"
   ]
  },
  {
   "cell_type": "code",
   "execution_count": 1,
   "metadata": {},
   "outputs": [],
   "source": [
    "import pandas as pd\n",
    "import sklearn\n",
    "import numpy as np"
   ]
  },
  {
   "cell_type": "code",
   "execution_count": 2,
   "metadata": {},
   "outputs": [],
   "source": [
    "from datetime import datetime\n",
    "import dateutil"
   ]
  },
  {
   "cell_type": "code",
   "execution_count": null,
   "metadata": {},
   "outputs": [],
   "source": [
    "import "
   ]
  },
  {
   "cell_type": "markdown",
   "metadata": {},
   "source": [
    "## Defining data folders"
   ]
  },
  {
   "cell_type": "code",
   "execution_count": 3,
   "metadata": {},
   "outputs": [],
   "source": [
    "folder_data = '/home/amogh/Desktop/CMU/LearnLab_Summer_School/Data/'"
   ]
  },
  {
   "cell_type": "code",
   "execution_count": 4,
   "metadata": {},
   "outputs": [],
   "source": [
    "folder_beta_sites_data = '/home/amogh/Desktop/CMU/LearnLab_Summer_School/Data/beta_sites_upto_27_july/'"
   ]
  },
  {
   "cell_type": "code",
   "execution_count": 5,
   "metadata": {},
   "outputs": [],
   "source": [
    "path_data_beta_sites = folder_beta_sites_data + 'ds2577_tx_All_Data_4463_2018_0728_005503.txt'"
   ]
  },
  {
   "cell_type": "markdown",
   "metadata": {},
   "source": [
    "## Loading raw data"
   ]
  },
  {
   "cell_type": "code",
   "execution_count": 6,
   "metadata": {},
   "outputs": [
    {
     "name": "stdout",
     "output_type": "stream",
     "text": [
      "ds2577_tx_All_Data_4463_2018_0728_005503.txt\r\n",
      "README.txt\r\n",
      "RobotutorDatashopUploadDocumentation_20180727.xlsx\r\n",
      "TERMS.html\r\n"
     ]
    }
   ],
   "source": [
    "!ls $folder_beta_sites_data"
   ]
  },
  {
   "cell_type": "code",
   "execution_count": 7,
   "metadata": {
    "scrolled": true
   },
   "outputs": [
    {
     "name": "stderr",
     "output_type": "stream",
     "text": [
      "/home/amogh/anaconda3/lib/python3.6/site-packages/IPython/core/interactiveshell.py:2785: DtypeWarning: Columns (7,75,76,79,82,83,84,85,86) have mixed types. Specify dtype option on import or set low_memory=False.\n",
      "  interactivity=interactivity, compiler=compiler, result=result)\n"
     ]
    }
   ],
   "source": [
    "df_data_beta_sites = pd.read_csv(path_data_beta_sites, sep = '\\t')"
   ]
  },
  {
   "cell_type": "markdown",
   "metadata": {},
   "source": [
    "**Visualising data**"
   ]
  },
  {
   "cell_type": "code",
   "execution_count": 8,
   "metadata": {},
   "outputs": [
    {
     "data": {
      "text/html": [
       "<div>\n",
       "<style scoped>\n",
       "    .dataframe tbody tr th:only-of-type {\n",
       "        vertical-align: middle;\n",
       "    }\n",
       "\n",
       "    .dataframe tbody tr th {\n",
       "        vertical-align: top;\n",
       "    }\n",
       "\n",
       "    .dataframe thead th {\n",
       "        text-align: right;\n",
       "    }\n",
       "</style>\n",
       "<table border=\"1\" class=\"dataframe\">\n",
       "  <thead>\n",
       "    <tr style=\"text-align: right;\">\n",
       "      <th></th>\n",
       "      <th>Row</th>\n",
       "      <th>Sample Name</th>\n",
       "      <th>Transaction Id</th>\n",
       "      <th>Anon Student Id</th>\n",
       "      <th>Session Id</th>\n",
       "      <th>Time</th>\n",
       "      <th>Time Zone</th>\n",
       "      <th>Duration (sec)</th>\n",
       "      <th>Student Response Type</th>\n",
       "      <th>Student Response Subtype</th>\n",
       "      <th>...</th>\n",
       "      <th>CF (Student School)</th>\n",
       "      <th>CF (Student Used Scaffold)</th>\n",
       "      <th>CF (Tablet Name)</th>\n",
       "      <th>CF (Tablet Number)</th>\n",
       "      <th>CF (Total Activity Problems)</th>\n",
       "      <th>CF (Tutor Sequence Session)</th>\n",
       "      <th>CF (Tutor Sequence User)</th>\n",
       "      <th>CF (Unix Epoch)</th>\n",
       "      <th>CF (User Id Order)</th>\n",
       "      <th>CF (Version)</th>\n",
       "    </tr>\n",
       "  </thead>\n",
       "  <tbody>\n",
       "    <tr>\n",
       "      <th>0</th>\n",
       "      <td>1</td>\n",
       "      <td>All Data</td>\n",
       "      <td>556a357f1676e9f396b472affacf1052</td>\n",
       "      <td>20180421_081922-0-52000266fecfa4e5</td>\n",
       "      <td>52000266fecfa4e5_20180503_095852</td>\n",
       "      <td>2018-05-03 12:59:15</td>\n",
       "      <td>NaN</td>\n",
       "      <td>0</td>\n",
       "      <td>NaN</td>\n",
       "      <td>NaN</td>\n",
       "      <td>...</td>\n",
       "      <td>NaN</td>\n",
       "      <td>NaN</td>\n",
       "      <td>3</td>\n",
       "      <td>52000266fecfa4e5</td>\n",
       "      <td>5.0</td>\n",
       "      <td>1</td>\n",
       "      <td>1</td>\n",
       "      <td>1.525356e+12</td>\n",
       "      <td>2</td>\n",
       "      <td>sw.1.8.9.1</td>\n",
       "    </tr>\n",
       "    <tr>\n",
       "      <th>1</th>\n",
       "      <td>2</td>\n",
       "      <td>All Data</td>\n",
       "      <td>19b3b667ff8f23ef0eff507504b00b7e</td>\n",
       "      <td>20180421_081922-0-52000266fecfa4e5</td>\n",
       "      <td>52000266fecfa4e5_20180503_095852</td>\n",
       "      <td>2018-05-03 12:59:20</td>\n",
       "      <td>NaN</td>\n",
       "      <td>5</td>\n",
       "      <td>NaN</td>\n",
       "      <td>NaN</td>\n",
       "      <td>...</td>\n",
       "      <td>NaN</td>\n",
       "      <td>NaN</td>\n",
       "      <td>3</td>\n",
       "      <td>52000266fecfa4e5</td>\n",
       "      <td>5.0</td>\n",
       "      <td>1</td>\n",
       "      <td>1</td>\n",
       "      <td>1.525356e+12</td>\n",
       "      <td>3</td>\n",
       "      <td>sw.1.8.9.1</td>\n",
       "    </tr>\n",
       "    <tr>\n",
       "      <th>2</th>\n",
       "      <td>3</td>\n",
       "      <td>All Data</td>\n",
       "      <td>8e06a2e8593ad9e657942d8bed372ee7</td>\n",
       "      <td>20180421_081922-0-52000266fecfa4e5</td>\n",
       "      <td>52000266fecfa4e5_20180503_095852</td>\n",
       "      <td>2018-05-03 12:59:24</td>\n",
       "      <td>NaN</td>\n",
       "      <td>4</td>\n",
       "      <td>NaN</td>\n",
       "      <td>NaN</td>\n",
       "      <td>...</td>\n",
       "      <td>NaN</td>\n",
       "      <td>NaN</td>\n",
       "      <td>3</td>\n",
       "      <td>52000266fecfa4e5</td>\n",
       "      <td>5.0</td>\n",
       "      <td>1</td>\n",
       "      <td>1</td>\n",
       "      <td>1.525356e+12</td>\n",
       "      <td>4</td>\n",
       "      <td>sw.1.8.9.1</td>\n",
       "    </tr>\n",
       "    <tr>\n",
       "      <th>3</th>\n",
       "      <td>4</td>\n",
       "      <td>All Data</td>\n",
       "      <td>84127ffce7384bbbb55d6075633012ac</td>\n",
       "      <td>20180421_081922-0-52000266fecfa4e5</td>\n",
       "      <td>52000266fecfa4e5_20180503_095852</td>\n",
       "      <td>2018-05-03 12:59:28</td>\n",
       "      <td>NaN</td>\n",
       "      <td>4</td>\n",
       "      <td>NaN</td>\n",
       "      <td>NaN</td>\n",
       "      <td>...</td>\n",
       "      <td>NaN</td>\n",
       "      <td>NaN</td>\n",
       "      <td>3</td>\n",
       "      <td>52000266fecfa4e5</td>\n",
       "      <td>5.0</td>\n",
       "      <td>1</td>\n",
       "      <td>1</td>\n",
       "      <td>1.525356e+12</td>\n",
       "      <td>5</td>\n",
       "      <td>sw.1.8.9.1</td>\n",
       "    </tr>\n",
       "    <tr>\n",
       "      <th>4</th>\n",
       "      <td>5</td>\n",
       "      <td>All Data</td>\n",
       "      <td>a9afc7bf3339a253b07e1ae593a9663b</td>\n",
       "      <td>20180421_081922-0-52000266fecfa4e5</td>\n",
       "      <td>52000266fecfa4e5_20180503_095852</td>\n",
       "      <td>2018-05-03 12:59:55</td>\n",
       "      <td>NaN</td>\n",
       "      <td>27</td>\n",
       "      <td>NaN</td>\n",
       "      <td>NaN</td>\n",
       "      <td>...</td>\n",
       "      <td>NaN</td>\n",
       "      <td>NaN</td>\n",
       "      <td>3</td>\n",
       "      <td>52000266fecfa4e5</td>\n",
       "      <td>9.0</td>\n",
       "      <td>2</td>\n",
       "      <td>2</td>\n",
       "      <td>1.525356e+12</td>\n",
       "      <td>6</td>\n",
       "      <td>sw.1.8.9.1</td>\n",
       "    </tr>\n",
       "  </tbody>\n",
       "</table>\n",
       "<p>5 rows × 94 columns</p>\n",
       "</div>"
      ],
      "text/plain": [
       "   Row Sample Name                    Transaction Id  \\\n",
       "0    1    All Data  556a357f1676e9f396b472affacf1052   \n",
       "1    2    All Data  19b3b667ff8f23ef0eff507504b00b7e   \n",
       "2    3    All Data  8e06a2e8593ad9e657942d8bed372ee7   \n",
       "3    4    All Data  84127ffce7384bbbb55d6075633012ac   \n",
       "4    5    All Data  a9afc7bf3339a253b07e1ae593a9663b   \n",
       "\n",
       "                      Anon Student Id                        Session Id  \\\n",
       "0  20180421_081922-0-52000266fecfa4e5  52000266fecfa4e5_20180503_095852   \n",
       "1  20180421_081922-0-52000266fecfa4e5  52000266fecfa4e5_20180503_095852   \n",
       "2  20180421_081922-0-52000266fecfa4e5  52000266fecfa4e5_20180503_095852   \n",
       "3  20180421_081922-0-52000266fecfa4e5  52000266fecfa4e5_20180503_095852   \n",
       "4  20180421_081922-0-52000266fecfa4e5  52000266fecfa4e5_20180503_095852   \n",
       "\n",
       "                  Time  Time Zone Duration (sec)  Student Response Type  \\\n",
       "0  2018-05-03 12:59:15        NaN              0                    NaN   \n",
       "1  2018-05-03 12:59:20        NaN              5                    NaN   \n",
       "2  2018-05-03 12:59:24        NaN              4                    NaN   \n",
       "3  2018-05-03 12:59:28        NaN              4                    NaN   \n",
       "4  2018-05-03 12:59:55        NaN             27                    NaN   \n",
       "\n",
       "   Student Response Subtype      ...       CF (Student School)  \\\n",
       "0                       NaN      ...                       NaN   \n",
       "1                       NaN      ...                       NaN   \n",
       "2                       NaN      ...                       NaN   \n",
       "3                       NaN      ...                       NaN   \n",
       "4                       NaN      ...                       NaN   \n",
       "\n",
       "   CF (Student Used Scaffold) CF (Tablet Name) CF (Tablet Number)  \\\n",
       "0                         NaN                3   52000266fecfa4e5   \n",
       "1                         NaN                3   52000266fecfa4e5   \n",
       "2                         NaN                3   52000266fecfa4e5   \n",
       "3                         NaN                3   52000266fecfa4e5   \n",
       "4                         NaN                3   52000266fecfa4e5   \n",
       "\n",
       "  CF (Total Activity Problems)  CF (Tutor Sequence Session)  \\\n",
       "0                          5.0                            1   \n",
       "1                          5.0                            1   \n",
       "2                          5.0                            1   \n",
       "3                          5.0                            1   \n",
       "4                          9.0                            2   \n",
       "\n",
       "  CF (Tutor Sequence User)  CF (Unix Epoch)  CF (User Id Order)  CF (Version)  \n",
       "0                        1     1.525356e+12                   2    sw.1.8.9.1  \n",
       "1                        1     1.525356e+12                   3    sw.1.8.9.1  \n",
       "2                        1     1.525356e+12                   4    sw.1.8.9.1  \n",
       "3                        1     1.525356e+12                   5    sw.1.8.9.1  \n",
       "4                        2     1.525356e+12                   6    sw.1.8.9.1  \n",
       "\n",
       "[5 rows x 94 columns]"
      ]
     },
     "execution_count": 8,
     "metadata": {},
     "output_type": "execute_result"
    }
   ],
   "source": [
    "df_data_beta_sites.head()"
   ]
  },
  {
   "cell_type": "code",
   "execution_count": 9,
   "metadata": {
    "scrolled": true
   },
   "outputs": [
    {
     "data": {
      "text/plain": [
       "array(['Row', 'Sample Name', 'Transaction Id', 'Anon Student Id',\n",
       "       'Session Id', 'Time', 'Time Zone', 'Duration (sec)',\n",
       "       'Student Response Type', 'Student Response Subtype',\n",
       "       'Tutor Response Type', 'Tutor Response Subtype',\n",
       "       'Level (Tutor Name)', 'Level (Tutor)', 'Problem Name',\n",
       "       'Problem View', 'Problem Start Time', 'Step Name',\n",
       "       'Attempt At Step', 'Is Last Attempt', 'Outcome', 'Selection',\n",
       "       'Action', 'Input', 'Feedback Text', 'Feedback Classification',\n",
       "       'Help Level', 'Total Num Hints', 'KC (Tutor)',\n",
       "       'KC Category (Tutor)', 'KC (Tutor Problem Name)',\n",
       "       'KC Category (Tutor Problem Name)', 'KC (Village)',\n",
       "       'KC Category (Village)', 'KC (Matrix)', 'KC Category (Matrix)',\n",
       "       'KC (Order)', 'KC Category (Order)', 'KC (Channel)',\n",
       "       'KC Category (Channel)', 'KC (Option Behavior)',\n",
       "       'KC Category (Option Behavior)', 'KC (Content)',\n",
       "       'KC Category (Content)', 'KC (Content By Tutor)',\n",
       "       'KC Category (Content By Tutor)', 'KC (Offset)',\n",
       "       'KC Category (Offset)', 'KC (Specific Content Type)',\n",
       "       'KC Category (Specific Content Type)',\n",
       "       'KC (Number of Letters and Characters)',\n",
       "       'KC Category (Number of Letters and Characters)',\n",
       "       'KC (Similar Letters Upper and Lower)',\n",
       "       'KC Category (Similar Letters Upper and Lower)',\n",
       "       'KC (All Upper Lower)', 'KC Category (All Upper Lower)',\n",
       "       'KC (Single-KC)', 'KC Category (Single-KC)', 'KC (Unique-step)',\n",
       "       'KC Category (Unique-step)', 'School', 'Class',\n",
       "       'CF (Activity Finished)', 'CF (Activity Started)',\n",
       "       'CF (Attempt Number)', 'CF (Date)', 'CF (Duration Sec)',\n",
       "       'CF (Expected Answer)', 'CF (File)', 'CF (Hiatus Sec)',\n",
       "       'CF (Matrix)', 'CF (Matrix Level)', 'CF (Matrix Order)',\n",
       "       'CF (Original Order)', 'CF (Outcome Numeric)',\n",
       "       'CF (Placement Test Flag)', 'CF (Placement Test User)',\n",
       "       'CF (Problem Number)', 'CF (Session Id Order)', 'CF (Student)',\n",
       "       'CF (Student Age)', 'CF (Student Chose Repeat)',\n",
       "       'CF (Student Class)', 'CF (Student Gender)', 'CF (Student School)',\n",
       "       'CF (Student Used Scaffold)', 'CF (Tablet Name)',\n",
       "       'CF (Tablet Number)', 'CF (Total Activity Problems)',\n",
       "       'CF (Tutor Sequence Session)', 'CF (Tutor Sequence User)',\n",
       "       'CF (Unix Epoch)', 'CF (User Id Order)', 'CF (Version)'],\n",
       "      dtype=object)"
      ]
     },
     "execution_count": 9,
     "metadata": {},
     "output_type": "execute_result"
    }
   ],
   "source": [
    "list_columns_df_beta_sites = df_data_beta_sites.columns.values\n",
    "list_columns_df_beta_sites"
   ]
  },
  {
   "cell_type": "raw",
   "metadata": {},
   "source": [
    "df_data_beta_sites.iloc[:,60:]"
   ]
  },
  {
   "cell_type": "markdown",
   "metadata": {},
   "source": [
    "Target - To get the session frequency and the session duration for all the villages."
   ]
  },
  {
   "cell_type": "code",
   "execution_count": 10,
   "metadata": {},
   "outputs": [
    {
     "data": {
      "text/plain": [
       "['Mugeta', 'Bagamoyo']"
      ]
     },
     "execution_count": 10,
     "metadata": {},
     "output_type": "execute_result"
    }
   ],
   "source": [
    "list_villages = list(set(df_data_beta_sites['KC (Village)']))\n",
    "list_villages"
   ]
  },
  {
   "cell_type": "raw",
   "metadata": {},
   "source": [
    "(set(df_data_beta_sites[df_data_beta_sites['KC (Village)'] == 'Bagamoyo'] ['Anon Student Id']))"
   ]
  },
  {
   "cell_type": "raw",
   "metadata": {},
   "source": [
    "a = df_data_beta_sites[(df_data_beta_sites['KC (Village)'] == 'Bagamoyo') & (df_data_beta_sites['Anon Student Id'] == '20180421_081922-0-52000266fecfa4e5')]['Time']\n",
    "a\n",
    "\n",
    "a = df_data_beta_sites[(df_data_beta_sites['KC (Village)'] == 'Bagamoyo') & (df_data_beta_sites['Anon Student Id'] == '20180421_081922-0-52000266fecfa4e5')]\n",
    "a\n",
    "\n",
    "a = [dt[0] for dt in list(a[a['Session Id'] == '52000266fecfa4e5_20180503_095852']['Time'].apply(getDateAndTime))]\n",
    "a"
   ]
  },
  {
   "cell_type": "markdown",
   "metadata": {},
   "source": [
    "## Helper functions (getDateAndTime, getTotalDuration, getTotalUseDays, getTotalUsableDays)"
   ]
  },
  {
   "cell_type": "code",
   "execution_count": 11,
   "metadata": {},
   "outputs": [],
   "source": [
    "# to get data and time in a tuple from a common string(found in the Time column of the dataframe)\n",
    "def getDateAndTime(datetime):\n",
    "    \n",
    "    \"\"\"\n",
    "    Splits a string with date and time and returns them as a tuple\n",
    "    \"\"\"\n",
    "    \n",
    "    split_list = datetime.split(' ')\n",
    "    time = split_list[1]\n",
    "    date = split_list[0]\n",
    "    return date, time"
   ]
  },
  {
   "cell_type": "code",
   "execution_count": 21,
   "metadata": {},
   "outputs": [],
   "source": [
    "def getTotalDuration(df_data, village, student_id):\n",
    "    \n",
    "    \"\"\"\n",
    "    Input: data dataframe, village name, student_id\n",
    "    Returns the total amount of usage in seconds for the tutor across all sessions in the data for a particular student in a village.\n",
    "    \"\"\"\n",
    "    \n",
    "    df_student = df_data[(df_data['KC (Village)'] == village) & (df_data['Anon Student Id'] == student_id)]\n",
    "    list_sessions = list(set(df_student['Session Id']))\n",
    "    sess_dur_sec = 0\n",
    "    for sess in list_sessions:\n",
    "        df_sess = df_student [df_student['Session Id'] == sess]\n",
    "        DT = '%H:%M:%S'\n",
    "        list_times = [dt[1] for dt in list(df_sess['Time'].apply(getDateAndTime))]\n",
    "        list_times = sorted(list_times, key=lambda x: datetime.strptime(x, DT))\n",
    "        diff_time = datetime.strptime(list_times[-1],DT) - datetime.strptime(list_times[0],DT)\n",
    "        sess_dur_sec += diff_time.seconds\n",
    "#     print(\"the tutor was used for {} seconds which is {} minutes\".format(sess_dur_sec,sess_dur_sec/60))        \n",
    "    return sess_dur_sec\n"
   ]
  },
  {
   "cell_type": "code",
   "execution_count": 13,
   "metadata": {},
   "outputs": [],
   "source": [
    "def getTotalUseDays(df_data, village, student_id):\n",
    "    \n",
    "    \"\"\"\n",
    "    Input: data dataframe, village name, student_id, function to separate date and time\n",
    "    Returns the total number of days tutor was used for a particular student in a village.\n",
    "    \"\"\"\n",
    "    \n",
    "    df_student = df_data[(df_data['KC (Village)'] == village) & (df_data['Anon Student Id'] == student_id)]\n",
    "    list_dates = list(set(df_student['CF (Date)']))\n",
    "    no_use_days = len(list_dates)\n",
    "#     print(\"the tutor was used for {} days\".format(no_use_days))    \n",
    "    return no_use_days"
   ]
  },
  {
   "cell_type": "code",
   "execution_count": 23,
   "metadata": {},
   "outputs": [],
   "source": [
    "def getTotalUsableDays(df_data, village, student_id):\n",
    "    \n",
    "    \"\"\"\n",
    "    Input: data dataframe, village name, student_id\n",
    "    Returns the total number of days tutor could've been used for a particular student in a particular village.\n",
    "    \"\"\"\n",
    "    \n",
    "    df_student = df_data[(df_data['KC (Village)'] == village) & (df_data['Anon Student Id'] == student_id)]\n",
    "    list_dates = list(set(df_student['CF (Date)']))\n",
    "    list_dates = sorted(list_dates, key=lambda x:datetime.strptime(x, \"%Y-%m-%d\"))\n",
    "    first_use_date = list_dates[0]\n",
    "    last_use_date = list_dates[-1]\n",
    "    no_usable_days = 1 + (datetime.strptime(last_use_date,\"%Y-%m-%d\") - datetime.strptime(first_use_date,\"%Y-%m-%d\")).days\n",
    "#     print(\"the tutor was usable over {} days\".format(no_usable_days))    \n",
    "    return no_usable_days"
   ]
  },
  {
   "cell_type": "raw",
   "metadata": {},
   "source": [
    "#sample_use\n",
    "getTotalDuration(df_data_beta_sites, 'Bagamoyo', '20180421_081922-0-52000266fecfa4e5')"
   ]
  },
  {
   "cell_type": "raw",
   "metadata": {},
   "source": [
    "#sample_use\n",
    "getTotalUseDays(df_data_beta_sites, 'Bagamoyo', '20180421_081922-0-52000266fecfa4e5')"
   ]
  },
  {
   "cell_type": "raw",
   "metadata": {},
   "source": [
    "#sample_use\n",
    "getTotalUsableDays(df_data_beta_sites, 'Bagamoyo', '20180421_081922-0-52000266fecfa4e5')"
   ]
  },
  {
   "cell_type": "markdown",
   "metadata": {},
   "source": [
    "## Functions to get avg session duration and average session frequency"
   ]
  },
  {
   "cell_type": "code",
   "execution_count": 24,
   "metadata": {},
   "outputs": [],
   "source": [
    "def getAvgSessionDuration(df_data, village, student_id):\n",
    "    \n",
    "    \"\"\"\n",
    "    Input: data, village name, student id\n",
    "    Returns the avg session duration obtained by dividing total use time by no of days that the tutor was used by a particular student in a particular village\n",
    "    \"\"\"\n",
    "    \n",
    "    total_duration = getTotalDuration(df_data, village, student_id)\n",
    "    total_use_days = getTotalUseDays(df_data, village, student_id)\n",
    "    avg_session_duration = total_duration/total_use_days\n",
    "    return avg_session_duration"
   ]
  },
  {
   "cell_type": "code",
   "execution_count": 25,
   "metadata": {},
   "outputs": [],
   "source": [
    "def getAvgSessionFrequency(df_data, village, student_id):\n",
    "\n",
    "    \"\"\"\n",
    "    Input: data, village name, student id\n",
    "    Returns the avg session frequency obtained by dividing total number of days used divided by number of days it could have been used by a particular student in a particular village\n",
    "    \"\"\"\n",
    "    \n",
    "    total_days_used = getTotalUseDays(df_data, village, student_id)\n",
    "    total_days_usable = getTotalUsableDays(df_data, village, student_id)\n",
    "    if(total_days_usable) == 0:\n",
    "        print(village, student_id)\n",
    "    avg_session_frequency = total_days_used / total_days_usable\n",
    "    return avg_session_frequency"
   ]
  },
  {
   "cell_type": "code",
   "execution_count": 26,
   "metadata": {},
   "outputs": [],
   "source": [
    "def getDurationFrequencyInVillage(df_data, village):\n",
    "    list_children = list(set(df_data[df_data['KC (Village)'] == village] ['Anon Student Id']))\n",
    "    print(\"Village {} has {} student ids\".format(village, len(list_children)))\n",
    "    list_avg_session_duration = [getAvgSessionDuration(df_data, village, student_id) for student_id in list_children]\n",
    "    list_avg_session_frequency = [getAvgSessionFrequency(df_data, village, student_id) for student_id in list_children]\n",
    "    return list_avg_session_duration, list_avg_session_frequency"
   ]
  },
  {
   "cell_type": "raw",
   "metadata": {},
   "source": [
    "#sample_use\n",
    "getDurationFrequencyInVillage(df_data_beta_sites,\"Bagamoyo\")"
   ]
  },
  {
   "cell_type": "markdown",
   "metadata": {},
   "source": [
    "## Calculating Metrics (Mean, variance)"
   ]
  },
  {
   "cell_type": "code",
   "execution_count": 35,
   "metadata": {},
   "outputs": [],
   "source": [
    "def getUsageMetrics(df_data, village):\n",
    "    \n",
    "    \"\"\"\n",
    "    Takes in the dataframe for the data and village name, calculates metrics (mean, std) for the village\n",
    "    \"\"\"\n",
    "    \n",
    "    list_avg_session_duration, list_avg_session_frequency = getDurationFrequencyInVillage(df_data, village)\n",
    "    array_avg_session_duration_minutes = np.array(list_avg_session_duration)/60\n",
    "    array_avg_session_frequency = np.array(list_avg_session_frequency)\n",
    "    mean_session_duration = np.mean(array_avg_session_duration_minutes)\n",
    "    mean_session_frequency = np.mean(array_avg_session_frequency)\n",
    "    std_session_duration = np.std(array_avg_session_duration_minutes)\n",
    "    std_session_frequency = np.std(array_avg_session_frequency)\n",
    "    print(mean_session_duration, mean_session_frequency, std_session_duration, std_session_frequency)"
   ]
  },
  {
   "cell_type": "code",
   "execution_count": 36,
   "metadata": {},
   "outputs": [
    {
     "data": {
      "text/plain": [
       "2"
      ]
     },
     "execution_count": 36,
     "metadata": {},
     "output_type": "execute_result"
    }
   ],
   "source": [
    "getTotalUsableDays(df_data_beta_sites, \"Bagamoyo\", \"20180428_102608-3-52009f57fe7e943d\")"
   ]
  },
  {
   "cell_type": "code",
   "execution_count": 37,
   "metadata": {},
   "outputs": [
    {
     "name": "stdout",
     "output_type": "stream",
     "text": [
      "Village Bagamoyo has 109 student ids\n",
      "32.43659531090724 0.843391774355077 14.99810436352205 0.30034522444222894\n"
     ]
    }
   ],
   "source": [
    "getUsageMetrics(df_data_beta_sites, 'Bagamoyo')"
   ]
  },
  {
   "cell_type": "code",
   "execution_count": null,
   "metadata": {},
   "outputs": [],
   "source": []
  },
  {
   "cell_type": "markdown",
   "metadata": {},
   "source": [
    "### Questions to ask"
   ]
  },
  {
   "cell_type": "markdown",
   "metadata": {},
   "source": [
    "1. CF (duration) is in seconds, does it make sense?"
   ]
  },
  {
   "cell_type": "code",
   "execution_count": null,
   "metadata": {},
   "outputs": [],
   "source": []
  }
 ],
 "metadata": {
  "kernelspec": {
   "display_name": "Python 3",
   "language": "python",
   "name": "python3"
  },
  "language_info": {
   "codemirror_mode": {
    "name": "ipython",
    "version": 3
   },
   "file_extension": ".py",
   "mimetype": "text/x-python",
   "name": "python",
   "nbconvert_exporter": "python",
   "pygments_lexer": "ipython3",
   "version": "3.6.5"
  }
 },
 "nbformat": 4,
 "nbformat_minor": 2
}
